{
  "nbformat": 4,
  "nbformat_minor": 0,
  "metadata": {
    "colab": {
      "provenance": [],
      "authorship_tag": "ABX9TyMhlU1l95VyNCzwgJJMB6/U",
      "include_colab_link": true
    },
    "kernelspec": {
      "name": "python3",
      "display_name": "Python 3"
    },
    "language_info": {
      "name": "python"
    }
  },
  "cells": [
    {
      "cell_type": "markdown",
      "metadata": {
        "id": "view-in-github",
        "colab_type": "text"
      },
      "source": [
        "<a href=\"https://colab.research.google.com/github/MaggieHDez/ClassFiles/blob/main/practica4_MCHD.ipynb\" target=\"_parent\"><img src=\"https://colab.research.google.com/assets/colab-badge.svg\" alt=\"Open In Colab\"/></a>"
      ]
    },
    {
      "cell_type": "markdown",
      "source": [
        "# **Práctica 4. Manipulación de matrices**\n",
        ">**Alumno:** Margarita Cristina Hernández Delgadillo\\\n",
        ">**Matrícula:** 255879"
      ],
      "metadata": {
        "id": "TGzc1BEQ_qoH"
      }
    },
    {
      "cell_type": "markdown",
      "source": [
        "En esta práctica se crearon dos matrices de 3x3 con números aleatorios entre 1 y 10.\n",
        "\n",
        "Después de esto, se realizaron las siguientes operaciones:\n",
        "\n",
        "- Sumar ambas matrices.\n",
        "- Restar la segunda matriz de la primera.\n",
        "- Multiplicar la primera matriz por 2.\n",
        "- Realiza una multiplicación matricial entre las dos matrices."
      ],
      "metadata": {
        "id": "tblIr_Pq_3W7"
      }
    },
    {
      "cell_type": "markdown",
      "source": [
        "# Creación de Matrices"
      ],
      "metadata": {
        "id": "eqlQknp-IKOF"
      }
    },
    {
      "cell_type": "code",
      "execution_count": 6,
      "metadata": {
        "id": "gPec2nhB_nio"
      },
      "outputs": [],
      "source": [
        "import numpy as np\n",
        "\n",
        "matA = np.random.randint(1, 11, size=(3, 3))\n",
        "matB = np.random.randint(1, 11, size=(3, 3))"
      ]
    },
    {
      "cell_type": "markdown",
      "source": [
        "# Cálculos realizados"
      ],
      "metadata": {
        "id": "-o50nPApIgLJ"
      }
    },
    {
      "cell_type": "code",
      "source": [
        "print(\"Matriz A:\")\n",
        "print(matA)\n",
        "print(\"\\nMatriz B:\")\n",
        "print(matB)\n",
        "print(\"\\n****************************************\")\n",
        "print(\"Suma de las matrices:\\n\",matA + matB)\n",
        "print(\"\\n****************************************\")\n",
        "print(\"Resta de las matrices:\\n\", matA - matB)\n",
        "print(\"\\n****************************************\")\n",
        "print(\"Multiplicación de la matriz A por 2:\\n\", matA * 2)\n",
        "print(\"\\n****************************************\")\n",
        "print(\"Multiplicación matricial:\\n\", np.dot(matA, matB))"
      ],
      "metadata": {
        "colab": {
          "base_uri": "https://localhost:8080/"
        },
        "id": "oxtYuy8FIlVj",
        "outputId": "6093c4e1-bbef-4dac-a8f0-159b486f0712"
      },
      "execution_count": 10,
      "outputs": [
        {
          "output_type": "stream",
          "name": "stdout",
          "text": [
            "Matriz A:\n",
            "[[ 6 10  5]\n",
            " [ 1  1  2]\n",
            " [ 8  9  9]]\n",
            "\n",
            "Matriz B:\n",
            "[[ 1  8 10]\n",
            " [ 4  9  1]\n",
            " [10  5  2]]\n",
            "\n",
            "****************************************\n",
            "Suma de las matrices:\n",
            " [[ 7 18 15]\n",
            " [ 5 10  3]\n",
            " [18 14 11]]\n",
            "\n",
            "****************************************\n",
            "Resta de las matrices:\n",
            " [[ 5  2 -5]\n",
            " [-3 -8  1]\n",
            " [-2  4  7]]\n",
            "\n",
            "****************************************\n",
            "Multiplicación de la matriz A por 2:\n",
            " [[12 20 10]\n",
            " [ 2  2  4]\n",
            " [16 18 18]]\n",
            "\n",
            "****************************************\n",
            "Multiplicación matricial:\n",
            " [[ 96 163  80]\n",
            " [ 25  27  15]\n",
            " [134 190 107]]\n"
          ]
        }
      ]
    }
  ]
}