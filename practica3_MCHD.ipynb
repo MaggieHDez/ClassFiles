{
  "nbformat": 4,
  "nbformat_minor": 0,
  "metadata": {
    "colab": {
      "provenance": [],
      "authorship_tag": "ABX9TyMiXCmWGd3KeNhSM5/Ko5KT",
      "include_colab_link": true
    },
    "kernelspec": {
      "name": "python3",
      "display_name": "Python 3"
    },
    "language_info": {
      "name": "python"
    }
  },
  "cells": [
    {
      "cell_type": "markdown",
      "metadata": {
        "id": "view-in-github",
        "colab_type": "text"
      },
      "source": [
        "<a href=\"https://colab.research.google.com/github/MaggieHDez/ClassFiles/blob/main/practica3_MCHD.ipynb\" target=\"_parent\"><img src=\"https://colab.research.google.com/assets/colab-badge.svg\" alt=\"Open In Colab\"/></a>"
      ]
    },
    {
      "cell_type": "markdown",
      "source": [
        "# **Práctica 3. Creación de un arreglo y operaciones básicas**\n",
        ">**Alumno:** Margarita Cristina Hernández Delgadillo\\\n",
        ">**Matrícula:** 255879"
      ],
      "metadata": {
        "id": "8tXHstMa5MQh"
      }
    },
    {
      "cell_type": "markdown",
      "source": [
        "\n",
        "En esta práctica se diseñó un código en [Google Colab](https://colab.research.google.com/) para crear un arreglo unidimensional de 20 elementos con valores aleatorios entre 1 y 100.\n",
        "\n",
        "Luego de esto, se realizaron las siguientes operaciones:\n",
        "\n",
        "- Encontrar el valor máximo del arreglo.\n",
        "- Encontrar el valor mínimo del arreglo.\n",
        "- Calcular la media del arreglo.\n",
        "- Sumar 10 a cada elemento del arreglo."
      ],
      "metadata": {
        "id": "xdWqjUZJ5zac"
      }
    },
    {
      "cell_type": "markdown",
      "source": [
        "## Generación del arreglo\n",
        "Comenzamos con la importación de numpy y la creación del arreglo de 20 elementos con numeros aleatorios del 0 al 101."
      ],
      "metadata": {
        "id": "4-we6zlu64_w"
      }
    },
    {
      "cell_type": "code",
      "source": [
        "import numpy as np\n",
        "\n",
        "arr = np.random.randint(0, 101, 20)"
      ],
      "metadata": {
        "id": "yROaFp5L7KHV"
      },
      "execution_count": 5,
      "outputs": []
    },
    {
      "cell_type": "markdown",
      "source": [
        "## Cálculos realizados\n",
        "\n",
        "Con el arreglo generado procedemos a encontrar el valor mínimo, valor máximo, media y finalmente le sumaremos 10 a cada elemento del arreglo."
      ],
      "metadata": {
        "id": "5arMgPQV77Pu"
      }
    },
    {
      "cell_type": "code",
      "source": [
        "max_valor = np.max(arr)\n",
        "min_valor = np.min(arr)\n",
        "media = np.mean(arr)\n",
        "suma = arr + 10\n",
        "\n",
        "print('Arreglo generado', arr)\n",
        "print('Valor máximo:', max_valor)\n",
        "print('Valor mínimo:', min_valor)\n",
        "print('Media:', media)\n",
        "print('Suma:', suma)"
      ],
      "metadata": {
        "colab": {
          "base_uri": "https://localhost:8080/"
        },
        "id": "ISmA9il78dfG",
        "outputId": "b317c0ab-f4da-4039-b498-6ce15a9475e5"
      },
      "execution_count": 6,
      "outputs": [
        {
          "output_type": "stream",
          "name": "stdout",
          "text": [
            "Arreglo generado [16 86 71 50 45  9 81 36 43 97 42  7 51 40 71 78  6 49 11 38]\n",
            "Valor máximo: 97\n",
            "Valor mínimo: 6\n",
            "Media: 46.35\n",
            "Suma: [ 26  96  81  60  55  19  91  46  53 107  52  17  61  50  81  88  16  59\n",
            "  21  48]\n"
          ]
        }
      ]
    }
  ]
}