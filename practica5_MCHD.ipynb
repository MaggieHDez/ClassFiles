{
  "nbformat": 4,
  "nbformat_minor": 0,
  "metadata": {
    "colab": {
      "provenance": [],
      "authorship_tag": "ABX9TyOG1OFZzxzaxuTaiX1aDIqN",
      "include_colab_link": true
    },
    "kernelspec": {
      "name": "python3",
      "display_name": "Python 3"
    },
    "language_info": {
      "name": "python"
    }
  },
  "cells": [
    {
      "cell_type": "markdown",
      "metadata": {
        "id": "view-in-github",
        "colab_type": "text"
      },
      "source": [
        "<a href=\"https://colab.research.google.com/github/MaggieHDez/ClassFiles/blob/main/practica5_MCHD.ipynb\" target=\"_parent\"><img src=\"https://colab.research.google.com/assets/colab-badge.svg\" alt=\"Open In Colab\"/></a>"
      ]
    },
    {
      "cell_type": "markdown",
      "source": [
        "# **Práctica 5. Uso de máscaras booleanas**\n",
        ">**Alumno:** Margarita Cristina Hernández Delgadillo\\\n",
        ">**Matrícula:** 255879"
      ],
      "metadata": {
        "id": "A5WK-aFKMYN9"
      }
    },
    {
      "cell_type": "markdown",
      "source": [
        "En esta práctica se creó un arreglo unidimensional con 15 números aleatorios entre 1 y 50.\n",
        "\n",
        "Después se realizó lo siguiente:\n",
        "- Seleccionar los elementos mayores que 25 utilizando una máscara booleana.\n",
        "- Contar cuántos elementos son mayores que 25."
      ],
      "metadata": {
        "id": "AWtcJtnaMtGA"
      }
    },
    {
      "cell_type": "markdown",
      "source": [
        "## Creación de arreglo\n",
        "\n",
        "Se crea el arreglo con 15 elementos aleatorios entre 1 y 50."
      ],
      "metadata": {
        "id": "vrWrXn_JM_HN"
      }
    },
    {
      "cell_type": "code",
      "execution_count": 19,
      "metadata": {
        "colab": {
          "base_uri": "https://localhost:8080/"
        },
        "id": "dfDudSmjL8ZU",
        "outputId": "cad7da2b-3254-4aa1-ee59-77170163d19f"
      },
      "outputs": [
        {
          "output_type": "stream",
          "name": "stdout",
          "text": [
            "Arreglo original:  [26  2 35 19 21 26 47 40 34 29 43  2 22 48 14]\n"
          ]
        }
      ],
      "source": [
        "import numpy as np\n",
        "\n",
        "arr = np.random.randint(1, 51, 15)\n",
        "print(\"Arreglo original: \", arr)"
      ]
    },
    {
      "cell_type": "markdown",
      "source": [
        "## Cálculos\n",
        "\n",
        "Para finalizar, buscamos los elementos del arreglo que son mayores que 25 y los mostramos en pantalla con una máscara booleana, junto con el total de elementos que son mayores que 25."
      ],
      "metadata": {
        "id": "Qvqg2h5lNZl1"
      }
    },
    {
      "cell_type": "code",
      "source": [
        "mask = arr > 25\n",
        "print(\"Elementos mayores que 25: \", arr[mask])\n",
        "elementos_mayores_25 = len(arr[mask]) # puede usarse también np.size(arr[mask])\n",
        "print(\"Cantidad de elementos mayores que 25: \", elementos_mayores_25)"
      ],
      "metadata": {
        "colab": {
          "base_uri": "https://localhost:8080/"
        },
        "id": "9yh6uPcPNbo1",
        "outputId": "ccc30272-4f95-4e7c-fe1f-b05acc534bff"
      },
      "execution_count": 20,
      "outputs": [
        {
          "output_type": "stream",
          "name": "stdout",
          "text": [
            "Elementos mayores que 25:  [26 35 26 47 40 34 29 43 48]\n",
            "Cantidad de elementos mayores que 25:  9\n"
          ]
        }
      ]
    }
  ]
}