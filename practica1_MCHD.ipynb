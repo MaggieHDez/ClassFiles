{
  "nbformat": 4,
  "nbformat_minor": 0,
  "metadata": {
    "colab": {
      "provenance": [],
      "authorship_tag": "ABX9TyM7Rnz3SY+GWpTtu/FK3re+",
      "include_colab_link": true
    },
    "kernelspec": {
      "name": "python3",
      "display_name": "Python 3"
    },
    "language_info": {
      "name": "python"
    }
  },
  "cells": [
    {
      "cell_type": "markdown",
      "metadata": {
        "id": "view-in-github",
        "colab_type": "text"
      },
      "source": [
        "<a href=\"https://colab.research.google.com/github/MaggieHDez/ClassFiles/blob/main/practica1_MCHD.ipynb\" target=\"_parent\"><img src=\"https://colab.research.google.com/assets/colab-badge.svg\" alt=\"Open In Colab\"/></a>"
      ]
    },
    {
      "cell_type": "markdown",
      "source": [
        "# **Práctica 1. Manejo de Archivos**\n",
        ">**Alumno:** Margarita Cristina Hernández Delgadillo\\\n",
        ">**Matrícula:** 255879"
      ],
      "metadata": {
        "id": "QmyA9n0NvaF7"
      }
    },
    {
      "cell_type": "markdown",
      "source": [
        "En esta practica, se diseñó un código en [Google Colab](https://colab.research.google.com/) para analizar el archivo `mbox.txt` y extraer las mediciones contenidas en cada línea que contiene la cadena `X-DSPAM-Confidence`.\n",
        "\n",
        "Además de esto se realizó lo siguiente:\n",
        "\n",
        "1.   Mostrar las mediciones en una lista.\n",
        "2.   Calcular y mostrar en la pantalla:\n",
        "  - La **cantidad de datos** que se extrajeron\n",
        "  - La **sumatoria** de los datos\n",
        "  - El **promedio** de los datos, y\n",
        "  - La **varianza** de los datos"
      ],
      "metadata": {
        "id": "pSKByJ9-xEdF"
      }
    },
    {
      "cell_type": "code",
      "execution_count": 1,
      "metadata": {
        "colab": {
          "base_uri": "https://localhost:8080/"
        },
        "id": "hyRLQv65u2Ad",
        "outputId": "261b31f9-92b9-4e98-bb77-f8b86022ac4a"
      },
      "outputs": [
        {
          "output_type": "stream",
          "name": "stdout",
          "text": [
            "Mounted at /content/drive\n"
          ]
        }
      ],
      "source": [
        "from google.colab import drive\n",
        "drive.mount('/content/drive')"
      ]
    }
  ]
}