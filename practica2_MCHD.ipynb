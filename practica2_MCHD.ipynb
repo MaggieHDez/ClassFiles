{
  "nbformat": 4,
  "nbformat_minor": 0,
  "metadata": {
    "colab": {
      "provenance": [],
      "authorship_tag": "ABX9TyNXhYF6B0BHbOkd9Eyp3hPT",
      "include_colab_link": true
    },
    "kernelspec": {
      "name": "python3",
      "display_name": "Python 3"
    },
    "language_info": {
      "name": "python"
    }
  },
  "cells": [
    {
      "cell_type": "markdown",
      "metadata": {
        "id": "view-in-github",
        "colab_type": "text"
      },
      "source": [
        "<a href=\"https://colab.research.google.com/github/MaggieHDez/ClassFiles/blob/main/practica2_MCHD.ipynb\" target=\"_parent\"><img src=\"https://colab.research.google.com/assets/colab-badge.svg\" alt=\"Open In Colab\"/></a>"
      ]
    },
    {
      "cell_type": "markdown",
      "source": [
        "# **Extracción de Información con Expresiones Regulares**"
      ],
      "metadata": {
        "id": "-zL84abxVpFe"
      }
    },
    {
      "cell_type": "markdown",
      "source": [
        ">**Alumno:** Margarita Cristina Hernández Delgadillo\\\n",
        ">**Matrícula:** 255879\n",
        "\n",
        "En este cuaderno, analizaremos información clave del archivo `informe_acciones.txt`\n",
        "utilizando expresiones regulares en Python. Extraeremos datos como el nombre de las empresas, fechas del valor de la acción y valores de acciones para calcular estadísticas como el valor máximo, mínimo y\n",
        "promedio para cada empresa"
      ],
      "metadata": {
        "id": "AK0szIyPfdB0"
      }
    },
    {
      "cell_type": "markdown",
      "source": [
        "## Conexión a folder contenedor del archivo"
      ],
      "metadata": {
        "id": "FF-U8qpafhkn"
      }
    },
    {
      "cell_type": "code",
      "source": [
        "from google.colab import drive\n",
        "drive.mount('/content/drive')"
      ],
      "metadata": {
        "colab": {
          "base_uri": "https://localhost:8080/"
        },
        "id": "noe_JGhifmAo",
        "outputId": "519320a0-2ec2-4c81-b330-f5d24b254a71"
      },
      "execution_count": null,
      "outputs": [
        {
          "output_type": "stream",
          "name": "stdout",
          "text": [
            "Mounted at /content/drive\n"
          ]
        }
      ]
    },
    {
      "cell_type": "markdown",
      "source": [
        "# Apertura de archivo"
      ],
      "metadata": {
        "id": "K9RTZ4PBgy3c"
      }
    },
    {
      "cell_type": "markdown",
      "source": [
        "Corre este codigo para seleccionar el archivo ```informe_acciones.txt``` para cargarlo"
      ],
      "metadata": {
        "id": "b5hcC7nt4Gr3"
      }
    },
    {
      "cell_type": "code",
      "source": [
        "from google.colab import files\n",
        "import re\n",
        "uploaded = files.upload()\n",
        "filename = list(uploaded.keys())[0]  # Extrae el nombre del primer archivo cargado\n",
        "filename = re.sub(r'\\s*\\(.*\\)', '', filename)\n",
        "\n",
        "# Mostrar el nombre del archivo\n",
        "print(f\"El archivo cargado es: {filename}\")"
      ],
      "metadata": {
        "colab": {
          "base_uri": "https://localhost:8080/",
          "height": 90
        },
        "id": "fXFJ51A14oB_",
        "outputId": "01edd787-7510-4a7f-cb96-b30b2e33848c"
      },
      "execution_count": null,
      "outputs": [
        {
          "output_type": "display_data",
          "data": {
            "text/plain": [
              "<IPython.core.display.HTML object>"
            ],
            "text/html": [
              "\n",
              "     <input type=\"file\" id=\"files-215b64f6-9fdd-42f2-8644-bf79f39df2f7\" name=\"files[]\" multiple disabled\n",
              "        style=\"border:none\" />\n",
              "     <output id=\"result-215b64f6-9fdd-42f2-8644-bf79f39df2f7\">\n",
              "      Upload widget is only available when the cell has been executed in the\n",
              "      current browser session. Please rerun this cell to enable.\n",
              "      </output>\n",
              "      <script>// Copyright 2017 Google LLC\n",
              "//\n",
              "// Licensed under the Apache License, Version 2.0 (the \"License\");\n",
              "// you may not use this file except in compliance with the License.\n",
              "// You may obtain a copy of the License at\n",
              "//\n",
              "//      http://www.apache.org/licenses/LICENSE-2.0\n",
              "//\n",
              "// Unless required by applicable law or agreed to in writing, software\n",
              "// distributed under the License is distributed on an \"AS IS\" BASIS,\n",
              "// WITHOUT WARRANTIES OR CONDITIONS OF ANY KIND, either express or implied.\n",
              "// See the License for the specific language governing permissions and\n",
              "// limitations under the License.\n",
              "\n",
              "/**\n",
              " * @fileoverview Helpers for google.colab Python module.\n",
              " */\n",
              "(function(scope) {\n",
              "function span(text, styleAttributes = {}) {\n",
              "  const element = document.createElement('span');\n",
              "  element.textContent = text;\n",
              "  for (const key of Object.keys(styleAttributes)) {\n",
              "    element.style[key] = styleAttributes[key];\n",
              "  }\n",
              "  return element;\n",
              "}\n",
              "\n",
              "// Max number of bytes which will be uploaded at a time.\n",
              "const MAX_PAYLOAD_SIZE = 100 * 1024;\n",
              "\n",
              "function _uploadFiles(inputId, outputId) {\n",
              "  const steps = uploadFilesStep(inputId, outputId);\n",
              "  const outputElement = document.getElementById(outputId);\n",
              "  // Cache steps on the outputElement to make it available for the next call\n",
              "  // to uploadFilesContinue from Python.\n",
              "  outputElement.steps = steps;\n",
              "\n",
              "  return _uploadFilesContinue(outputId);\n",
              "}\n",
              "\n",
              "// This is roughly an async generator (not supported in the browser yet),\n",
              "// where there are multiple asynchronous steps and the Python side is going\n",
              "// to poll for completion of each step.\n",
              "// This uses a Promise to block the python side on completion of each step,\n",
              "// then passes the result of the previous step as the input to the next step.\n",
              "function _uploadFilesContinue(outputId) {\n",
              "  const outputElement = document.getElementById(outputId);\n",
              "  const steps = outputElement.steps;\n",
              "\n",
              "  const next = steps.next(outputElement.lastPromiseValue);\n",
              "  return Promise.resolve(next.value.promise).then((value) => {\n",
              "    // Cache the last promise value to make it available to the next\n",
              "    // step of the generator.\n",
              "    outputElement.lastPromiseValue = value;\n",
              "    return next.value.response;\n",
              "  });\n",
              "}\n",
              "\n",
              "/**\n",
              " * Generator function which is called between each async step of the upload\n",
              " * process.\n",
              " * @param {string} inputId Element ID of the input file picker element.\n",
              " * @param {string} outputId Element ID of the output display.\n",
              " * @return {!Iterable<!Object>} Iterable of next steps.\n",
              " */\n",
              "function* uploadFilesStep(inputId, outputId) {\n",
              "  const inputElement = document.getElementById(inputId);\n",
              "  inputElement.disabled = false;\n",
              "\n",
              "  const outputElement = document.getElementById(outputId);\n",
              "  outputElement.innerHTML = '';\n",
              "\n",
              "  const pickedPromise = new Promise((resolve) => {\n",
              "    inputElement.addEventListener('change', (e) => {\n",
              "      resolve(e.target.files);\n",
              "    });\n",
              "  });\n",
              "\n",
              "  const cancel = document.createElement('button');\n",
              "  inputElement.parentElement.appendChild(cancel);\n",
              "  cancel.textContent = 'Cancel upload';\n",
              "  const cancelPromise = new Promise((resolve) => {\n",
              "    cancel.onclick = () => {\n",
              "      resolve(null);\n",
              "    };\n",
              "  });\n",
              "\n",
              "  // Wait for the user to pick the files.\n",
              "  const files = yield {\n",
              "    promise: Promise.race([pickedPromise, cancelPromise]),\n",
              "    response: {\n",
              "      action: 'starting',\n",
              "    }\n",
              "  };\n",
              "\n",
              "  cancel.remove();\n",
              "\n",
              "  // Disable the input element since further picks are not allowed.\n",
              "  inputElement.disabled = true;\n",
              "\n",
              "  if (!files) {\n",
              "    return {\n",
              "      response: {\n",
              "        action: 'complete',\n",
              "      }\n",
              "    };\n",
              "  }\n",
              "\n",
              "  for (const file of files) {\n",
              "    const li = document.createElement('li');\n",
              "    li.append(span(file.name, {fontWeight: 'bold'}));\n",
              "    li.append(span(\n",
              "        `(${file.type || 'n/a'}) - ${file.size} bytes, ` +\n",
              "        `last modified: ${\n",
              "            file.lastModifiedDate ? file.lastModifiedDate.toLocaleDateString() :\n",
              "                                    'n/a'} - `));\n",
              "    const percent = span('0% done');\n",
              "    li.appendChild(percent);\n",
              "\n",
              "    outputElement.appendChild(li);\n",
              "\n",
              "    const fileDataPromise = new Promise((resolve) => {\n",
              "      const reader = new FileReader();\n",
              "      reader.onload = (e) => {\n",
              "        resolve(e.target.result);\n",
              "      };\n",
              "      reader.readAsArrayBuffer(file);\n",
              "    });\n",
              "    // Wait for the data to be ready.\n",
              "    let fileData = yield {\n",
              "      promise: fileDataPromise,\n",
              "      response: {\n",
              "        action: 'continue',\n",
              "      }\n",
              "    };\n",
              "\n",
              "    // Use a chunked sending to avoid message size limits. See b/62115660.\n",
              "    let position = 0;\n",
              "    do {\n",
              "      const length = Math.min(fileData.byteLength - position, MAX_PAYLOAD_SIZE);\n",
              "      const chunk = new Uint8Array(fileData, position, length);\n",
              "      position += length;\n",
              "\n",
              "      const base64 = btoa(String.fromCharCode.apply(null, chunk));\n",
              "      yield {\n",
              "        response: {\n",
              "          action: 'append',\n",
              "          file: file.name,\n",
              "          data: base64,\n",
              "        },\n",
              "      };\n",
              "\n",
              "      let percentDone = fileData.byteLength === 0 ?\n",
              "          100 :\n",
              "          Math.round((position / fileData.byteLength) * 100);\n",
              "      percent.textContent = `${percentDone}% done`;\n",
              "\n",
              "    } while (position < fileData.byteLength);\n",
              "  }\n",
              "\n",
              "  // All done.\n",
              "  yield {\n",
              "    response: {\n",
              "      action: 'complete',\n",
              "    }\n",
              "  };\n",
              "}\n",
              "\n",
              "scope.google = scope.google || {};\n",
              "scope.google.colab = scope.google.colab || {};\n",
              "scope.google.colab._files = {\n",
              "  _uploadFiles,\n",
              "  _uploadFilesContinue,\n",
              "};\n",
              "})(self);\n",
              "</script> "
            ]
          },
          "metadata": {}
        },
        {
          "output_type": "stream",
          "name": "stdout",
          "text": [
            "Saving informe_acciones.txt to informe_acciones (4).txt\n",
            "El archivo cargado es: informe_acciones.txt\n"
          ]
        }
      ]
    },
    {
      "cell_type": "markdown",
      "source": [
        "Después de cargar el archivo, puedes leer su contenido corriendo el siguiente código."
      ],
      "metadata": {
        "id": "qrWMn0CD5CqV"
      }
    },
    {
      "cell_type": "markdown",
      "source": [
        "### Problema de lectura\n",
        "\n",
        "Al realizar la lectura del archivo, me encontre con un problema ya que el archivo no era codificación utf. Para resolver esto utilicé chardet para detectar la codificación y poder realizar la lectura del archivo."
      ],
      "metadata": {
        "id": "MvdaBKX9kg6o"
      }
    },
    {
      "cell_type": "code",
      "source": [
        "import chardet\n",
        "\n",
        "with open(filename, 'rb') as f:\n",
        "    result = chardet.detect(f.read())"
      ],
      "metadata": {
        "id": "D3uiSdYxg3rT"
      },
      "execution_count": 40,
      "outputs": []
    },
    {
      "cell_type": "markdown",
      "source": [
        "### Extracción de datos\n",
        "\n",
        "Una vez resulto el problema de codificación, procedemos a extraer los datos: Nombre de empresa, fechas y valor."
      ],
      "metadata": {
        "id": "ZoDqPyQ2oH-Y"
      }
    },
    {
      "cell_type": "code",
      "source": [
        "# Diccionario que guardará resultados\n",
        "acciones = {}\n",
        "\n",
        "# Abre el archivo con la codificación correcta\n",
        "with open(filename, encoding='ISO-8859-1') as arch:\n",
        "  for linea in arch:\n",
        "    linea = linea.strip()\n",
        "    # Extracción de nombre de empresa\n",
        "    match = re.findall(r\"acción de (.+?) \\(\",linea)\n",
        "    if match:\n",
        "      empresa = match[0]\n",
        "      if empresa not in acciones:\n",
        "        acciones[empresa] = {\"fecha\": [], \"valores\": []} # Inicialización\n",
        "\n",
        "    match = re.findall(r\"(\\d{4}-\\d{2}-\\d{2})\", linea)\n",
        "    if match:\n",
        "      fecha = match[0]\n",
        "      acciones[empresa][\"fecha\"].append(fecha)\n",
        "\n",
        "    match = re.findall(r\"\\$(\\d+\\.\\d+)\", linea)\n",
        "    if match:\n",
        "      valor = float(match[0])\n",
        "      acciones[empresa][\"valores\"].append(valor)"
      ],
      "metadata": {
        "id": "rTcaLKEhlLZb"
      },
      "execution_count": 41,
      "outputs": []
    },
    {
      "cell_type": "markdown",
      "source": [
        "### Cálculo de mínimo, máximo y promedio\n",
        "Finalizamos con el cálculo de valor máximo, valor mínimo y el promedio y mostramos la información de la empresa en un tabla. Para esto utilizamos los data frames de ```pandas``` y ```max()```, ```min()``` y ```mean()``` de ```numpy```."
      ],
      "metadata": {
        "id": "6xWmCS_Dx4qS"
      }
    },
    {
      "cell_type": "code",
      "source": [
        "import pandas as pd\n",
        "import numpy as np\n",
        "\n",
        "# Calcular min, max y promedio\n",
        "resultados = []\n",
        "for empresa, datos in acciones.items():\n",
        "  if datos[\"valores\"]:  # Asegurar que hay datos para calcular\n",
        "    max_valor = np.max(datos[\"valores\"])\n",
        "    min_valor = np.min(datos[\"valores\"])\n",
        "    promedio = np.mean(datos[\"valores\"])\n",
        "    fecha_reciente = max(datos[\"fecha\"])  # Última fecha registrada\n",
        "\n",
        "    resultados.append([empresa, fecha_reciente, max_valor, min_valor, promedio])\n",
        "\n",
        "# Convertir resultados a DataFrame y mostrar como tabla\n",
        "df_resultados = pd.DataFrame(resultados, columns=[\"Empresa\", \"Fecha más reciente\", \"Valor Máx ($)\", \"Valor Mín ($)\", \"Promedio ($)\"])\n",
        "df_sort = df_resultados.sort_values(by='Empresa',ascending=True) # Ordenamos por nombre de empresa\n",
        "print(df_sort.to_string(index=False))  # Para imprimir toda la tabla de una vez sin los índices. Forzamos la impresión completa de la tabla"
      ],
      "metadata": {
        "colab": {
          "base_uri": "https://localhost:8080/"
        },
        "id": "nrJQtTkKySaO",
        "outputId": "a67e5067-f206-4773-b119-9467b99f2e08"
      },
      "execution_count": 42,
      "outputs": [
        {
          "output_type": "stream",
          "name": "stdout",
          "text": [
            "                        Empresa Fecha más reciente  Valor Máx ($)  Valor Mín ($)  Promedio ($)\n",
            "                      AT&T Inc.         2024-09-02        1499.95         101.37    777.280093\n",
            "                    AbbVie Inc.         2024-09-02        1493.72         104.19    811.056505\n",
            "                     Adobe Inc.         2024-09-02        1499.69         105.72    803.033778\n",
            "                  Alphabet Inc.         2024-09-02        1497.57         101.77    783.619501\n",
            "                Amazon.com Inc.         2024-09-02        1498.27         103.83    762.746842\n",
            "                     Apple Inc.         2024-09-02        1499.82         101.29    815.535308\n",
            "        Berkshire Hathaway Inc.         2024-09-02        1497.75         102.99    780.418283\n",
            "             Cisco Systems Inc.         2024-09-02        1499.73         104.72    794.882188\n",
            "        Exxon Mobil Corporation         2024-09-02        1498.51         104.62    822.573687\n",
            "              Intel Corporation         2024-09-02        1489.20         103.85    782.316171\n",
            "              Johnson & Johnson         2024-09-02        1495.85         106.65    811.577014\n",
            "                MasterCard Inc.         2024-09-02        1499.99         102.26    802.096953\n",
            "              Merck & Co., Inc.         2024-09-02        1495.62         102.43    804.274683\n",
            "            Meta Platforms Inc.         2024-09-02        1495.69         100.47    776.365749\n",
            "                Microsoft Corp.         2024-09-02        1494.97         104.05    819.006018\n",
            "             NVIDIA Corporation         2024-09-02        1496.06         103.26    806.608099\n",
            "                   Netflix Inc.         2024-09-02        1498.68         101.74    820.103612\n",
            "                      Nike Inc.         2024-09-02        1497.69         109.78    791.822386\n",
            "             Oracle Corporation         2024-09-02        1497.32         111.36    798.130958\n",
            "           PayPal Holdings Inc.         2024-09-02        1494.49         101.58    813.274957\n",
            "                    Pfizer Inc.         2024-09-02        1493.37         103.04    823.514626\n",
            "           Procter & Gamble Co.         2024-09-02        1490.46         100.24    804.044000\n",
            "            Salesforce.com Inc.         2024-09-02        1497.80         106.33    816.631145\n",
            "                     Tesla Inc.         2024-09-02        1499.37         108.42    819.294180\n",
            "            The Home Depot Inc.         2024-09-02        1490.53         101.10    798.419917\n",
            "UnitedHealth Group Incorporated         2024-09-02        1492.18         104.71    774.642952\n",
            "    Verizon Communications Inc.         2024-09-02        1497.71         101.04    796.794729\n",
            "                      Visa Inc.         2024-09-02        1499.21         101.67    803.022050\n",
            "                   Walmart Inc.         2024-09-02        1498.60         102.71    773.779828\n"
          ]
        }
      ]
    }
  ]
}