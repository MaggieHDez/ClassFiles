{
  "nbformat": 4,
  "nbformat_minor": 0,
  "metadata": {
    "colab": {
      "provenance": [],
      "authorship_tag": "ABX9TyMpVDPc9BrGB678u5rMEvin",
      "include_colab_link": true
    },
    "kernelspec": {
      "name": "python3",
      "display_name": "Python 3"
    },
    "language_info": {
      "name": "python"
    }
  },
  "cells": [
    {
      "cell_type": "markdown",
      "metadata": {
        "id": "view-in-github",
        "colab_type": "text"
      },
      "source": [
        "<a href=\"https://colab.research.google.com/github/MaggieHDez/ClassFiles/blob/main/practica2_MCHD.ipynb\" target=\"_parent\"><img src=\"https://colab.research.google.com/assets/colab-badge.svg\" alt=\"Open In Colab\"/></a>"
      ]
    },
    {
      "cell_type": "markdown",
      "source": [
        "# **Extracción de Información con Expresiones Regulares**"
      ],
      "metadata": {
        "id": "-zL84abxVpFe"
      }
    },
    {
      "cell_type": "markdown",
      "source": [
        ">**Alumno:** Margarita Cristina Hernández Delgadillo\\\n",
        ">**Matrícula:** 255879\n",
        "\n",
        "En este cuaderno, analizaremos información clave del archivo `informe_acciones.txt`\n",
        "utilizando expresiones regulares en Python. Extraeremos datos como el nombre de las empresas, fechas del valor de la acción y valores de acciones para calcular estadísticas como el valor máximo, mínimo y\n",
        "promedio para cada empresa"
      ],
      "metadata": {
        "id": "AK0szIyPfdB0"
      }
    },
    {
      "cell_type": "markdown",
      "source": [
        "## Conexión a folder contenedor del archivo"
      ],
      "metadata": {
        "id": "FF-U8qpafhkn"
      }
    },
    {
      "cell_type": "code",
      "source": [
        "from google.colab import drive\n",
        "drive.mount('/content/drive')"
      ],
      "metadata": {
        "colab": {
          "base_uri": "https://localhost:8080/"
        },
        "id": "noe_JGhifmAo",
        "outputId": "519320a0-2ec2-4c81-b330-f5d24b254a71"
      },
      "execution_count": null,
      "outputs": [
        {
          "output_type": "stream",
          "name": "stdout",
          "text": [
            "Mounted at /content/drive\n"
          ]
        }
      ]
    },
    {
      "cell_type": "markdown",
      "source": [
        "# Apertura de archivo"
      ],
      "metadata": {
        "id": "K9RTZ4PBgy3c"
      }
    },
    {
      "cell_type": "markdown",
      "source": [
        "### Problema de lectura\n",
        "\n",
        "Al realizar la lectura del archivo, me encontre con un problema ya que el archivo no era codificación utf. Para resolver esto utilicé chardet para detectar la codificación y poder realizar la lectura del archivo."
      ],
      "metadata": {
        "id": "MvdaBKX9kg6o"
      }
    },
    {
      "cell_type": "code",
      "source": [
        "import re\n",
        "import chardet\n",
        "\n",
        "with open('/content/drive/MyDrive/ClassFiles/informe_acciones.txt', 'rb') as f:\n",
        "    result = chardet.detect(f.read())\n"
      ],
      "metadata": {
        "colab": {
          "base_uri": "https://localhost:8080/"
        },
        "id": "D3uiSdYxg3rT",
        "outputId": "6a5736b7-3759-4ed6-bc01-b43699c28bf0"
      },
      "execution_count": null,
      "outputs": [
        {
          "output_type": "stream",
          "name": "stdout",
          "text": [
            "Codificación detectada: ISO-8859-1\n"
          ]
        }
      ]
    },
    {
      "cell_type": "markdown",
      "source": [
        "### Extracción de datos\n",
        "\n",
        "Una vez resulto el problema de codificación, procedemos a extraer los datos: Nombre de empresa, fechas y valor."
      ],
      "metadata": {
        "id": "ZoDqPyQ2oH-Y"
      }
    },
    {
      "cell_type": "code",
      "source": [
        "# Diccionario que guardará resultados\n",
        "acciones = {}\n",
        "\n",
        "# Abre el archivo con la codificación correcta\n",
        "with open('/content/drive/MyDrive/ClassFiles/informe_acciones.txt', encoding='ISO-8859-1') as arch:\n",
        "  for linea in arch:\n",
        "    linea = linea.strip()\n",
        "    # Extracción de nombre de empresa\n",
        "    match = re.findall(r\"acción de (.+?) \\(\",linea)\n",
        "    if match:\n",
        "      empresa = match[0]\n",
        "      if empresa not in acciones:\n",
        "        acciones[empresa] = {\"fecha\": [], \"valores\": []} # Inicialización\n",
        "\n",
        "    match = re.findall(r\"(\\d{4}-\\d{2}-\\d{2})\", linea)\n",
        "    if match:\n",
        "      fecha = match[0]\n",
        "      acciones[empresa][\"fecha\"].append(fecha)\n",
        "\n",
        "    match = re.findall(r\"\\$(\\d+\\.\\d+)\", linea)\n",
        "    if match:\n",
        "      valor = float(match[0])\n",
        "      acciones[empresa][\"valores\"].append(valor)"
      ],
      "metadata": {
        "id": "rTcaLKEhlLZb"
      },
      "execution_count": null,
      "outputs": []
    },
    {
      "cell_type": "markdown",
      "source": [
        "### Cálculo de mínimo, máximo y promedio\n",
        "Finalizamos con el cálculo de valor máximo, valor mínimo y el promedio y mostramos la información de la empresa en un tabla. Para esto utilizamos los data frames de ```pandas``` y ```max()```, ```min()``` y ```mean()``` de ```numpy```."
      ],
      "metadata": {
        "id": "6xWmCS_Dx4qS"
      }
    },
    {
      "cell_type": "code",
      "source": [
        "import pandas as pd\n",
        "import numpy as np\n",
        "\n",
        "# Calcular min, max y promedio\n",
        "resultados = []\n",
        "for empresa, datos in acciones.items():\n",
        "  if datos[\"valores\"]:  # Asegurar que hay datos para calcular\n",
        "    max_valor = np.max(datos[\"valores\"])\n",
        "    min_valor = np.min(datos[\"valores\"])\n",
        "    promedio = np.mean(datos[\"valores\"])\n",
        "    fecha_reciente = max(datos[\"fecha\"])  # Última fecha registrada\n",
        "\n",
        "    resultados.append([empresa, fecha_reciente, max_valor, min_valor, promedio])\n",
        "\n",
        "# Convertir resultados a DataFrame y mostrar como tabla\n",
        "df_resultados = pd.DataFrame(resultados, columns=[\"Empresa\", \"Fecha más reciente\", \"Valor Máx ($)\", \"Valor Mín ($)\", \"Promedio ($)\"])\n",
        "df_sort = df_resultados.sort_values(by='Empresa',ascending=True) # Ordenamos por nombre de empresa\n",
        "print(df_sort.to_string(index=False))  # Para imprimir toda la tabla de una vez sin los índices. Forzamos la impresión completa de la tabla"
      ],
      "metadata": {
        "colab": {
          "base_uri": "https://localhost:8080/"
        },
        "id": "nrJQtTkKySaO",
        "outputId": "3f5be921-4239-4f13-a314-b180dfa7d9ef"
      },
      "execution_count": 30,
      "outputs": [
        {
          "output_type": "stream",
          "name": "stdout",
          "text": [
            "                        Empresa Fecha más reciente  Valor Máx ($)  Valor Mín ($)  Promedio ($)\n",
            "                      AT&T Inc.         2024-09-02        1499.95         101.37    777.280093\n",
            "                    AbbVie Inc.         2024-09-02        1493.72         104.19    811.056505\n",
            "                     Adobe Inc.         2024-09-02        1499.69         105.72    803.033778\n",
            "                  Alphabet Inc.         2024-09-02        1497.57         101.77    783.619501\n",
            "                Amazon.com Inc.         2024-09-02        1498.27         103.83    762.746842\n",
            "                     Apple Inc.         2024-09-02        1499.82         101.29    815.535308\n",
            "        Berkshire Hathaway Inc.         2024-09-02        1497.75         102.99    780.418283\n",
            "             Cisco Systems Inc.         2024-09-02        1499.73         104.72    794.882188\n",
            "        Exxon Mobil Corporation         2024-09-02        1498.51         104.62    822.573687\n",
            "              Intel Corporation         2024-09-02        1489.20         103.85    782.316171\n",
            "              Johnson & Johnson         2024-09-02        1495.85         106.65    811.577014\n",
            "                MasterCard Inc.         2024-09-02        1499.99         102.26    802.096953\n",
            "              Merck & Co., Inc.         2024-09-02        1495.62         102.43    804.274683\n",
            "            Meta Platforms Inc.         2024-09-02        1495.69         100.47    776.365749\n",
            "                Microsoft Corp.         2024-09-02        1494.97         104.05    819.006018\n",
            "             NVIDIA Corporation         2024-09-02        1496.06         103.26    806.608099\n",
            "                   Netflix Inc.         2024-09-02        1498.68         101.74    820.103612\n",
            "                      Nike Inc.         2024-09-02        1497.69         109.78    791.822386\n",
            "             Oracle Corporation         2024-09-02        1497.32         111.36    798.130958\n",
            "           PayPal Holdings Inc.         2024-09-02        1494.49         101.58    813.274957\n",
            "                    Pfizer Inc.         2024-09-02        1493.37         103.04    823.514626\n",
            "           Procter & Gamble Co.         2024-09-02        1490.46         100.24    804.044000\n",
            "            Salesforce.com Inc.         2024-09-02        1497.80         106.33    816.631145\n",
            "                     Tesla Inc.         2024-09-02        1499.37         108.42    819.294180\n",
            "            The Home Depot Inc.         2024-09-02        1490.53         101.10    798.419917\n",
            "UnitedHealth Group Incorporated         2024-09-02        1492.18         104.71    774.642952\n",
            "    Verizon Communications Inc.         2024-09-02        1497.71         101.04    796.794729\n",
            "                      Visa Inc.         2024-09-02        1499.21         101.67    803.022050\n",
            "                   Walmart Inc.         2024-09-02        1498.60         102.71    773.779828\n"
          ]
        }
      ]
    }
  ]
}