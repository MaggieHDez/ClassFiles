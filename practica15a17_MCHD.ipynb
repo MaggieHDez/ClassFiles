{
  "nbformat": 4,
  "nbformat_minor": 0,
  "metadata": {
    "colab": {
      "provenance": [],
      "authorship_tag": "ABX9TyPe9ss7GWMxHfhlw3qZDOGS",
      "include_colab_link": true
    },
    "kernelspec": {
      "name": "python3",
      "display_name": "Python 3"
    },
    "language_info": {
      "name": "python"
    }
  },
  "cells": [
    {
      "cell_type": "markdown",
      "metadata": {
        "id": "view-in-github",
        "colab_type": "text"
      },
      "source": [
        "<a href=\"https://colab.research.google.com/github/MaggieHDez/ClassFiles/blob/main/practica15a17_MCHD.ipynb\" target=\"_parent\"><img src=\"https://colab.research.google.com/assets/colab-badge.svg\" alt=\"Open In Colab\"/></a>"
      ]
    },
    {
      "cell_type": "markdown",
      "source": [
        "# **Limpieza y Transformación de Datos**\n",
        "\n",
        ">**Alumno:** Margarita Cristina Hernández Delgadillo\\\n",
        ">**Matrícula:** 255879"
      ],
      "metadata": {
        "id": "L3VV7LUQomdB"
      }
    },
    {
      "cell_type": "markdown",
      "source": [
        "El objetivo de esta actividad es que los estudiantes practiquen los temas vistos de carga de datos, normalización de nombres de columnas, separación y unión de columnas, errores en los tipos de datos. Todo es en un conjunto de datos utilizando `Pandas` en `Python`."
      ],
      "metadata": {
        "id": "OOz_XKEHqNaZ"
      }
    },
    {
      "cell_type": "code",
      "source": [
        "# Conexión a Google Drive\n",
        "from google.colab import drive\n",
        "drive.mount('/content/drive')"
      ],
      "metadata": {
        "id": "7tKv9_iHAwWi"
      },
      "execution_count": null,
      "outputs": []
    },
    {
      "cell_type": "markdown",
      "source": [
        "## **Práctica 13. Carga de Datos**"
      ],
      "metadata": {
        "id": "CloiN3WSuhLL"
      }
    },
    {
      "cell_type": "markdown",
      "source": [
        "**Instrucciones:**\\\n",
        "Al final del archivo contiene una línea que dice \"Esta es una línea que no deberías cargar\". Esta línea es irrelevante por lo tanto al cargar el CSV a un dataframe se debería de ignorar.\n",
        "- Carga el archivo a un dataframe usando el código necesario para omitir la última fila.\n",
        "- Usa `df.tail(3)` para demostrar que no has cargado la última línea.\n",
        "- Imprime la cantidad de filas y columnas del dataframe."
      ],
      "metadata": {
        "id": "VPgXsYj0usjN"
      }
    },
    {
      "cell_type": "markdown",
      "source": [
        "### Carga del archivo"
      ],
      "metadata": {
        "id": "dae1t2xboqnS"
      }
    },
    {
      "cell_type": "code",
      "execution_count": 47,
      "metadata": {
        "colab": {
          "base_uri": "https://localhost:8080/"
        },
        "id": "3bweXFGJoXr9",
        "outputId": "42ffdd8c-de3b-44f4-bcbd-c747c6b826e1"
      },
      "outputs": [
        {
          "output_type": "stream",
          "name": "stdout",
          "text": [
            "Últimas 3 filas del dataframe:\n",
            "        Unnamed: 0  BOROUGH NEIGHBORHOOD  \\\n",
            "84545        8411        5      WOODROW   \n",
            "84546        8412        5      WOODROW   \n",
            "84547        8413        5      WOODROW   \n",
            "\n",
            "                           BUILDING CLASS CATEGORY TAX CLASS AT PRESENT  \\\n",
            "84545  02 TWO FAMILY DWELLINGS                                        1   \n",
            "84546  22 STORE BUILDINGS                                             4   \n",
            "84547  35 INDOOR PUBLIC AND CULTURAL FACILITIES                       4   \n",
            "\n",
            "       BLOCK  LOT EASE-MENT BUILDING CLASS AT PRESENT                ADDRESS  \\\n",
            "84545   7351   60                                  B2       49 PITNEY AVENUE   \n",
            "84546   7100   28                                  K6  2730 ARTHUR KILL ROAD   \n",
            "84547   7105  679                                  P9      155 CLAY PIT ROAD   \n",
            "\n",
            "       ... RESIDENTIAL UNITS  COMMERCIAL UNITS  TOTAL UNITS  LAND SQUARE FEET  \\\n",
            "84545  ...                 2                 0            2              4000   \n",
            "84546  ...                 0                 7            7            208033   \n",
            "84547  ...                 0                 1            1             10796   \n",
            "\n",
            "       GROSS SQUARE FEET YEAR BUILT TAX CLASS AT TIME OF SALE  \\\n",
            "84545               1496       1925                         1   \n",
            "84546              64117       2001                         4   \n",
            "84547               2400       2006                         4   \n",
            "\n",
            "       BUILDING CLASS AT TIME OF SALE  SALE PRICE            SALE DATE  \n",
            "84545                              B2      460000  2017-07-05 00:00:00  \n",
            "84546                              K6    11693337  2016-12-21 00:00:00  \n",
            "84547                              P9       69300  2016-10-27 00:00:00  \n",
            "\n",
            "[3 rows x 22 columns]\n",
            "\n",
            "Cantidad de filas y columnas del dataframe:  (84548, 22)\n"
          ]
        }
      ],
      "source": [
        "# Importarndo pandas\n",
        "import pandas as pd\n",
        "\n",
        "archivo = \"/content/drive/MyDrive/ClassFiles/miaad-nyc-r-s.csv\"\n",
        "\n",
        "# Cargar el archivo CSV omitiendo la ultima fila\n",
        "df = pd.read_csv(archivo, skipfooter=1,engine=\"python\")\n",
        "\n",
        "# Comprobamos que se omitió la última fila\n",
        "print(\"Últimas 3 filas del dataframe:\\n\", df.tail(3)) #la última fila debe ser la de \"ID\" 8413\n",
        "print(\"\\nCantidad de filas y columnas del dataframe: \", df.shape)"
      ]
    },
    {
      "cell_type": "markdown",
      "source": [
        "## **Práctica 14. Agregar una columna**"
      ],
      "metadata": {
        "id": "9obrdds5EhlY"
      }
    },
    {
      "cell_type": "markdown",
      "source": [
        "**Instrucciones:**\n",
        "- Imprime los nombres de la columnas del archivo.\n",
        "- Asegúrate que el nombre de la primera columna debería ser `INDEX MIIAD`. Si esto no es así, entonces agrega dicho nombre a la columna y vuelve a imprimir los nombres para mostrar el cambio realizado.\n"
      ],
      "metadata": {
        "id": "Uxn2A6QcEtQh"
      }
    },
    {
      "cell_type": "code",
      "source": [
        "# Imprimir el nombre de las columnas del archivo\n",
        "print(\"Nombres de las columnas del archivo:\\n\", df.columns)\n",
        "\n",
        "if df.columns[0] != \"INDEX MIIAD\":\n",
        "  # Se renombra la columna 0 a INDEX MIIAD directo en el mismo df sin tener\n",
        "  # que asignarlo a una variable\n",
        "  df.rename(columns={df.columns[0]: \"INDEX MIIAD\"}, inplace=True)\n",
        "  print(\"\\nSe ha renombrado la primera columna a 'INDEX MIIAD'.\")\n",
        "  print(\"\\nNuevos nombres de las columnas del archivo:\\n\", df.columns)\n",
        "else:\n",
        "    print(\"\\nEl nombre de la primera columna es correcto.\")"
      ],
      "metadata": {
        "colab": {
          "base_uri": "https://localhost:8080/"
        },
        "id": "LrIWRWe8Fpxh",
        "outputId": "16dec14f-59db-4f9f-e3d6-47a40f68fcc0"
      },
      "execution_count": 48,
      "outputs": [
        {
          "output_type": "stream",
          "name": "stdout",
          "text": [
            "Nombres de las columnas del archivo:\n",
            " Index(['Unnamed: 0', 'BOROUGH', 'NEIGHBORHOOD', 'BUILDING CLASS CATEGORY',\n",
            "       'TAX CLASS AT PRESENT', 'BLOCK', 'LOT', 'EASE-MENT',\n",
            "       'BUILDING CLASS AT PRESENT', 'ADDRESS', 'APARTMENT NUMBER', 'ZIP CODE',\n",
            "       'RESIDENTIAL UNITS', 'COMMERCIAL UNITS', 'TOTAL UNITS',\n",
            "       'LAND SQUARE FEET', 'GROSS SQUARE FEET', 'YEAR BUILT',\n",
            "       'TAX CLASS AT TIME OF SALE', 'BUILDING CLASS AT TIME OF SALE',\n",
            "       'SALE PRICE', 'SALE DATE'],\n",
            "      dtype='object')\n",
            "\n",
            "Se ha renombrado la primera columna a 'INDEX MIIAD'.\n",
            "\n",
            "Nuevos nombres de las columnas del archivo:\n",
            " Index(['INDEX MIIAD', 'BOROUGH', 'NEIGHBORHOOD', 'BUILDING CLASS CATEGORY',\n",
            "       'TAX CLASS AT PRESENT', 'BLOCK', 'LOT', 'EASE-MENT',\n",
            "       'BUILDING CLASS AT PRESENT', 'ADDRESS', 'APARTMENT NUMBER', 'ZIP CODE',\n",
            "       'RESIDENTIAL UNITS', 'COMMERCIAL UNITS', 'TOTAL UNITS',\n",
            "       'LAND SQUARE FEET', 'GROSS SQUARE FEET', 'YEAR BUILT',\n",
            "       'TAX CLASS AT TIME OF SALE', 'BUILDING CLASS AT TIME OF SALE',\n",
            "       'SALE PRICE', 'SALE DATE'],\n",
            "      dtype='object')\n"
          ]
        }
      ]
    },
    {
      "cell_type": "markdown",
      "source": [
        "## **Práctica 15. Normalización de los nombres de la columna**"
      ],
      "metadata": {
        "id": "oVBbNKCaH0At"
      }
    },
    {
      "cell_type": "markdown",
      "source": [
        "**Instrucciones:**\n",
        "- Normaliza los nombres de las columnas, los cuales deberán estar en minúsculas. Asimismo, reemplaza los espacios con guion bajo.\n",
        "- Imprime los nombres de las columnas para demostrar que has realizado la normalización."
      ],
      "metadata": {
        "id": "MCYYOlgqH8wd"
      }
    },
    {
      "cell_type": "code",
      "source": [
        "# Convierte a minúsculas y reemplaza espacios con guión bajo\n",
        "df.columns = df.columns.str.lower().str.replace(\" \", \"_\")\n",
        "\n",
        "# Imprimir los nombres de las columnas\n",
        "print(\"Nuevos nombres en minúsculas y con guión bajo:\\n\", df.columns)"
      ],
      "metadata": {
        "colab": {
          "base_uri": "https://localhost:8080/"
        },
        "id": "YssN8JejIHb0",
        "outputId": "128dc18a-df4c-4784-90f3-ed60d774f43d"
      },
      "execution_count": 49,
      "outputs": [
        {
          "output_type": "stream",
          "name": "stdout",
          "text": [
            "Nuevos nombres en minúsculas y con guión bajo:\n",
            " Index(['index_miiad', 'borough', 'neighborhood', 'building_class_category',\n",
            "       'tax_class_at_present', 'block', 'lot', 'ease-ment',\n",
            "       'building_class_at_present', 'address', 'apartment_number', 'zip_code',\n",
            "       'residential_units', 'commercial_units', 'total_units',\n",
            "       'land_square_feet', 'gross_square_feet', 'year_built',\n",
            "       'tax_class_at_time_of_sale', 'building_class_at_time_of_sale',\n",
            "       'sale_price', 'sale_date'],\n",
            "      dtype='object')\n"
          ]
        }
      ]
    },
    {
      "cell_type": "markdown",
      "source": [
        "## **Práctica 16. Errores en los Tipos de Datos**"
      ],
      "metadata": {
        "id": "gUZY4aGmJF1R"
      }
    },
    {
      "cell_type": "markdown",
      "source": [
        "**Instrucciones:**\n",
        "- Imprime los tipos de datos de cada columna.\n",
        "- Asegúrate que las columnas de `SALE PRICE(sale_price), LAND SQUARE FEET (land_square_feet), GROSS SQUARE FEET (gross_square_feet)` sean de tipo flotante. Escribe qué tipo de dato tienen asignado. Si no son correctos, realiza el cambio.\n",
        "- Imprime de nuevo los tipos de datos para demostrar que has arreglado el problema."
      ],
      "metadata": {
        "id": "HhrokmkLJK7k"
      }
    },
    {
      "cell_type": "code",
      "source": [
        "# Imprimimos el tipo de datos de cada columna\n",
        "print(\"Tipos de datos de cada columna:\")\n",
        "print(df.dtypes)\n",
        "\n",
        "columnas_a_convertir = [\"sale_price\", \"land_square_feet\", \"gross_square_feet\"]\n",
        "\n",
        "for columna in columnas_a_convertir: # Itera sobre cada nombre de columna en la lista\n",
        "  # Verificar si la columna contiene valores no numéricos\n",
        "  if not pd.to_numeric(df[columna], errors=\"coerce\").notnull().all():\n",
        "    # Convertir la columna a tipo flotante\n",
        "    df[columna] = pd.to_numeric(df[columna], errors=\"coerce\")\n",
        "\n",
        "# Imprimimos el tipo de datos nuevamente para verificar\n",
        "print(\"\\nTipos de datos de cada columna después de la corrección:\")\n",
        "print(df.dtypes)"
      ],
      "metadata": {
        "colab": {
          "base_uri": "https://localhost:8080/"
        },
        "id": "qBiRf-mpJv-2",
        "outputId": "4e9526e3-156e-4484-88e9-ee928564972b"
      },
      "execution_count": 51,
      "outputs": [
        {
          "output_type": "stream",
          "name": "stdout",
          "text": [
            "Tipos de datos de cada columna:\n",
            "index_miiad                        int64\n",
            "borough                            int64\n",
            "neighborhood                      object\n",
            "building_class_category           object\n",
            "tax_class_at_present              object\n",
            "block                              int64\n",
            "lot                                int64\n",
            "ease-ment                         object\n",
            "building_class_at_present         object\n",
            "address                           object\n",
            "apartment_number                  object\n",
            "zip_code                           int64\n",
            "residential_units                  int64\n",
            "commercial_units                   int64\n",
            "total_units                        int64\n",
            "land_square_feet                  object\n",
            "gross_square_feet                 object\n",
            "year_built                         int64\n",
            "tax_class_at_time_of_sale          int64\n",
            "building_class_at_time_of_sale    object\n",
            "sale_price                        object\n",
            "sale_date                         object\n",
            "dtype: object\n",
            "\n",
            "Tipos de datos de cada columna después de la corrección:\n",
            "index_miiad                         int64\n",
            "borough                             int64\n",
            "neighborhood                       object\n",
            "building_class_category            object\n",
            "tax_class_at_present               object\n",
            "block                               int64\n",
            "lot                                 int64\n",
            "ease-ment                          object\n",
            "building_class_at_present          object\n",
            "address                            object\n",
            "apartment_number                   object\n",
            "zip_code                            int64\n",
            "residential_units                   int64\n",
            "commercial_units                    int64\n",
            "total_units                         int64\n",
            "land_square_feet                  float64\n",
            "gross_square_feet                 float64\n",
            "year_built                          int64\n",
            "tax_class_at_time_of_sale           int64\n",
            "building_class_at_time_of_sale     object\n",
            "sale_price                        float64\n",
            "sale_date                          object\n",
            "dtype: object\n"
          ]
        }
      ]
    },
    {
      "cell_type": "markdown",
      "source": [
        "## **Práctica 17. Genera el diccionario de datos del dataframe preprocesado. Imprime el contenido de dicho diccionario**"
      ],
      "metadata": {
        "id": "sGWQcX3_dvy_"
      }
    },
    {
      "cell_type": "code",
      "source": [
        "# DataFrame preprocesado\n",
        "# Declaración de diccionario para guardar los datos\n",
        "data_dict = {}\n",
        "for col in df.columns:\n",
        "    data_dict[col] = {\n",
        "        \"tipo\": str(df[col].dtype), # Guarda el tipo de dato de la columna convertido a string\n",
        "        \"nulos\": int(df[col].isna().sum()), # Guarda cuántos valores nulos hay en la columna\n",
        "        \"valores_unicos\": int(df[col].nunique()) # Guardar cuántos valores únicos hay en la columna\n",
        "    }\n",
        "\n",
        "\n",
        "# Convertimos data_dict a un DataFrame. T mueve las columnas a filas\n",
        "df_data_dict = pd.DataFrame(data_dict).T\n",
        "\n",
        "print(\"Diccionario de datos del dataframe:\\n\", df_data_dict)"
      ],
      "metadata": {
        "colab": {
          "base_uri": "https://localhost:8080/"
        },
        "id": "cHOS2NyakmEN",
        "outputId": "153728bf-a501-4b9d-df8a-6e6f722fa4ae"
      },
      "execution_count": 73,
      "outputs": [
        {
          "output_type": "stream",
          "name": "stdout",
          "text": [
            "Diccionario de datos del dataframe:\n",
            "                                    tipo  nulos valores_unicos\n",
            "index_miiad                       int64      0          26736\n",
            "borough                           int64      0              5\n",
            "neighborhood                     object      0            254\n",
            "building_class_category          object      0             47\n",
            "tax_class_at_present             object      0             11\n",
            "block                             int64      0          11566\n",
            "lot                               int64      0           2627\n",
            "ease-ment                        object      0              1\n",
            "building_class_at_present        object      0            167\n",
            "address                          object      0          67563\n",
            "apartment_number                 object      0           3989\n",
            "zip_code                          int64      0            186\n",
            "residential_units                 int64      0            176\n",
            "commercial_units                  int64      0             55\n",
            "total_units                       int64      0            192\n",
            "land_square_feet                float64  26252           6061\n",
            "gross_square_feet               float64  27612           5690\n",
            "year_built                        int64      0            158\n",
            "tax_class_at_time_of_sale         int64      0              4\n",
            "building_class_at_time_of_sale   object      0            166\n",
            "sale_price                      float64  14561          10007\n",
            "sale_date                        object      0            364\n"
          ]
        }
      ]
    }
  ]
}