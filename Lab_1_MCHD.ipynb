{
  "nbformat": 4,
  "nbformat_minor": 0,
  "metadata": {
    "colab": {
      "provenance": [],
      "authorship_tag": "ABX9TyOg5asgwKk/6qgeN2mLNxAV",
      "include_colab_link": true
    },
    "kernelspec": {
      "name": "python3",
      "display_name": "Python 3"
    },
    "language_info": {
      "name": "python"
    }
  },
  "cells": [
    {
      "cell_type": "markdown",
      "metadata": {
        "id": "view-in-github",
        "colab_type": "text"
      },
      "source": [
        "<a href=\"https://colab.research.google.com/github/MaggieHDez/ClassFiles/blob/main/Lab_1_MCHD.ipynb\" target=\"_parent\"><img src=\"https://colab.research.google.com/assets/colab-badge.svg\" alt=\"Open In Colab\"/></a>"
      ]
    },
    {
      "cell_type": "code",
      "execution_count": 1,
      "metadata": {
        "id": "ndRwfoW4E5sR",
        "colab": {
          "base_uri": "https://localhost:8080/"
        },
        "outputId": "21a702ee-ddd2-4865-cee9-7e5651a804bc"
      },
      "outputs": [
        {
          "output_type": "stream",
          "name": "stdout",
          "text": [
            "<_io.TextIOWrapper name='/content/drive/MyDrive/ClassFiles/mbox.txt' mode='r' encoding='UTF-8'>\n"
          ]
        }
      ],
      "source": [
        "archivo = open('/content/drive/MyDrive/ClassFiles/mbox.txt')\n",
        "print(archivo)"
      ]
    },
    {
      "cell_type": "code",
      "source": [
        "contador = 0\n",
        "for linea in archivo:\n",
        "  contador = contador + 1\n",
        "print('Contador de línea: ', contador)"
      ],
      "metadata": {
        "colab": {
          "base_uri": "https://localhost:8080/"
        },
        "id": "2Dlrdc7tOsSs",
        "outputId": "6e71b95a-5845-4bd8-a1b8-27ffe0e70d52"
      },
      "execution_count": 2,
      "outputs": [
        {
          "output_type": "stream",
          "name": "stdout",
          "text": [
            "Contador de línea:  132044\n"
          ]
        }
      ]
    }
  ]
}