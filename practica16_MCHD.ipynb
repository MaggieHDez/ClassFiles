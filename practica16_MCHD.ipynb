{
  "nbformat": 4,
  "nbformat_minor": 0,
  "metadata": {
    "colab": {
      "provenance": [],
      "authorship_tag": "ABX9TyN+HYjGcUFzeFlbjnVSKqqA",
      "include_colab_link": true
    },
    "kernelspec": {
      "name": "python3",
      "display_name": "Python 3"
    },
    "language_info": {
      "name": "python"
    }
  },
  "cells": [
    {
      "cell_type": "markdown",
      "metadata": {
        "id": "view-in-github",
        "colab_type": "text"
      },
      "source": [
        "<a href=\"https://colab.research.google.com/github/MaggieHDez/ClassFiles/blob/main/practica16_MCHD.ipynb\" target=\"_parent\"><img src=\"https://colab.research.google.com/assets/colab-badge.svg\" alt=\"Open In Colab\"/></a>"
      ]
    },
    {
      "cell_type": "markdown",
      "source": [
        "# **Práctica 16. Datos Duplicados**\n",
        ">**Alumno:** Margarita Cristina Hernández Delgadillo\\\n",
        ">**Matrícula:** 255879"
      ],
      "metadata": {
        "id": "vuMO_1acur2g"
      }
    },
    {
      "cell_type": "markdown",
      "source": [
        "## **Objetivo**\n",
        "El objetivo de esta actividad es que los estudiantes pongan en práctica lo visto en el vídeo y en el notebook que se proporciona."
      ],
      "metadata": {
        "id": "ZczPFyGlu4d-"
      }
    },
    {
      "cell_type": "markdown",
      "source": [
        "###Instrucciones:\n",
        "1. Descarga el archivo `dirtydata.csv`, proporcionado en esta tarea. También lo puedes encontrar en recursos.\n",
        "2. Crea un notebook en colab y guarda el archivo csv en tu drive.\n",
        "3. Agrega secciones en el colab poniendo como título el nombre de cada ejercicio"
      ],
      "metadata": {
        "id": "hLFq2WpPvFsC"
      }
    },
    {
      "cell_type": "code",
      "execution_count": 1,
      "metadata": {
        "colab": {
          "base_uri": "https://localhost:8080/"
        },
        "id": "z4qqvT6eua_s",
        "outputId": "7282df52-aee5-47f9-d476-a28711c4f1aa"
      },
      "outputs": [
        {
          "output_type": "stream",
          "name": "stdout",
          "text": [
            "Mounted at /content/drive\n"
          ]
        }
      ],
      "source": [
        "from google.colab import drive\n",
        "drive.mount('/content/drive')"
      ]
    },
    {
      "cell_type": "markdown",
      "source": [
        "## **Ejercicio 01. Datos Perdidos**"
      ],
      "metadata": {
        "id": "1439x-hsvxoF"
      }
    },
    {
      "cell_type": "markdown",
      "source": [
        "###Instrucciones:\n",
        "1. Carga el conjunto de datos `dirtydata.csv` y verifica que su carga sea correcta.\n",
        "2. Imprime la cantidad de datos perdidos que tiene el conjunto de datos.\n",
        "3. Calcula la media de la columna Calories.\n",
        "4. Aplica imputación por promedio (mean) en la columna Calories.\n",
        "5. Calcula de nuevo la media de la columna Calories después de que has imputado."
      ],
      "metadata": {
        "id": "jvXBfB15v9Fl"
      }
    },
    {
      "cell_type": "code",
      "source": [
        "# Importamos la librería pandas\n",
        "import pandas as pd\n",
        "\n",
        "# Leemos el archivo\n",
        "df = pd.read_csv('/content/drive/MyDrive/ClassFiles/dirtydata.csv')\n",
        "\n",
        "# Imprimimos las primeras 5 filas para verificar la carga correcta\n",
        "print(df.to_string())\n",
        "\n",
        "#  Imprimimos la cantidad de datos perdidos\n",
        "print('\\nDatos perdidos:\\n', df.isna().sum())\n",
        "\n",
        "# Calculamos la media de la columna Calories\n",
        "media_calories = df['Calories'].mean()\n",
        "print(\"\\nMedia de la columna 'Calories' antes de imputar:\", media_calories)\n",
        "\n",
        "# Aplicamos imputación por promedio (mean) en la columna Calories\n",
        "df['Calories'] = df['Calories'].fillna(media_calories)\n",
        "\n",
        "# Calculamos la media de nuevo después de imputar\n",
        "media_calories_imputada = df['Calories'].mean()\n",
        "print(\"\\nMedia de la columna 'Calories' después de imputar:\", media_calories_imputada)"
      ],
      "metadata": {
        "colab": {
          "base_uri": "https://localhost:8080/"
        },
        "id": "WtoE66CwwQXM",
        "outputId": "1361171c-7312-46a8-d093-418b4ebf8c35"
      },
      "execution_count": 14,
      "outputs": [
        {
          "output_type": "stream",
          "name": "stdout",
          "text": [
            "    Duration          Date  Pulse  Maxpulse  Calories\n",
            "0         60  '2020/12/01'    110       130     409.1\n",
            "1         60  '2020/12/02'    117       145     479.0\n",
            "2         60  '2020/12/03'    103       135     340.0\n",
            "3         45  '2020/12/04'    109       175     282.4\n",
            "4         45  '2020/12/05'    117       148     406.0\n",
            "5         60  '2020/12/06'    102       127     300.0\n",
            "6         60  '2020/12/07'    110       136     374.0\n",
            "7        450  '2020/12/08'    104       134     253.3\n",
            "8         30  '2020/12/09'    109       133     195.1\n",
            "9         60  '2020/12/10'     98       124     269.0\n",
            "10        60  '2020/12/11'    103       147     329.3\n",
            "11        60  '2020/12/12'    100       120     250.7\n",
            "12        60  '2020/12/12'    100       120     250.7\n",
            "13        60  '2020/12/13'    106       128     345.3\n",
            "14        60  '2020/12/14'    104       132     379.3\n",
            "15        60  '2020/12/15'     98       123     275.0\n",
            "16        60  '2020/12/16'     98       120     215.2\n",
            "17        60  '2020/12/17'    100       120     300.0\n",
            "18        45  '2020/12/18'     90       112       NaN\n",
            "19        60  '2020/12/19'    103       123     323.0\n",
            "20        45  '2020/12/20'     97       125     243.0\n",
            "21        60  '2020/12/21'    108       131     364.2\n",
            "22        45           NaN    100       119     282.0\n",
            "23        60  '2020/12/23'    130       101     300.0\n",
            "24        45  '2020/12/24'    105       132     246.0\n",
            "25        60  '2020/12/25'    102       126     334.5\n",
            "26        60      20201226    100       120     250.0\n",
            "27        60  '2020/12/27'     92       118     241.0\n",
            "28        60  '2020/12/28'    103       132       NaN\n",
            "29        60  '2020/12/29'    100       132     280.0\n",
            "30        60  '2020/12/30'    102       129     380.3\n",
            "31        60  '2020/12/31'     92       115     243.0\n",
            "\n",
            "Datos perdidos:\n",
            " Duration    0\n",
            "Date        1\n",
            "Pulse       0\n",
            "Maxpulse    0\n",
            "Calories    2\n",
            "dtype: int64\n",
            "\n",
            "Media de la columna 'Calories' antes de imputar: 304.68\n",
            "\n",
            "Media de la columna 'Calories' después de imputar: 304.67999999999995\n"
          ]
        }
      ]
    },
    {
      "cell_type": "markdown",
      "source": [
        "## **Ejercicio 02. Duplicidad Parcial Una columna: Contar y Filtrar los registros duplicados en Duration**"
      ],
      "metadata": {
        "id": "JD2ndNufTrvQ"
      }
    },
    {
      "cell_type": "markdown",
      "source": [
        "1. Carga el conjunto de datos `dirtydata.csv` y verifica que su carga sea correcta.\n",
        "2. Cuenta la cantidad de registros duplicados utilizando solo la información de columna `Duration` e imprime.\n",
        "3. Utiliza `value_counts()` e imprime la cantidad de registros que hay por cada valor único.\n",
        "4. Filtra los datos y obten los registros sin duplicados."
      ],
      "metadata": {
        "id": "1e_jYmi4T4J5"
      }
    },
    {
      "cell_type": "code",
      "source": [
        "# Leemos el archivo\n",
        "df_dup = pd.read_csv('/content/drive/MyDrive/ClassFiles/dirtydata.csv')\n",
        "\n",
        "# Imprimimos las primeras 5 filas para verificar la carga correcta\n",
        "print(df_dup.to_string())\n",
        "\n",
        "# Cantidad de duplicados usando la columna Duration\n",
        "duplicados_duration = df_dup.duplicated(subset = ['Duration']).sum()\n",
        "print('Cantidad de registros duplicados:', duplicados_duration)\n",
        "\n",
        "# Cantidad de registros por cada valor único\n",
        "print('\\nCantidad de registros por cada valor único:\\n', df_dup['Duration'].value_counts())\n",
        "\n",
        "df_sin_duplicados = df_dup.drop_duplicates(subset = ['Duration'])\n",
        "print('\\nDataFrame sin duplicados en columna Duration:\\n', df_sin_duplicados)\n"
      ],
      "metadata": {
        "colab": {
          "base_uri": "https://localhost:8080/"
        },
        "id": "g-QGSi0yUgyK",
        "outputId": "2c2434de-f6bb-4a22-ba49-983666f209f1"
      },
      "execution_count": 15,
      "outputs": [
        {
          "output_type": "stream",
          "name": "stdout",
          "text": [
            "    Duration          Date  Pulse  Maxpulse  Calories\n",
            "0         60  '2020/12/01'    110       130     409.1\n",
            "1         60  '2020/12/02'    117       145     479.0\n",
            "2         60  '2020/12/03'    103       135     340.0\n",
            "3         45  '2020/12/04'    109       175     282.4\n",
            "4         45  '2020/12/05'    117       148     406.0\n",
            "5         60  '2020/12/06'    102       127     300.0\n",
            "6         60  '2020/12/07'    110       136     374.0\n",
            "7        450  '2020/12/08'    104       134     253.3\n",
            "8         30  '2020/12/09'    109       133     195.1\n",
            "9         60  '2020/12/10'     98       124     269.0\n",
            "10        60  '2020/12/11'    103       147     329.3\n",
            "11        60  '2020/12/12'    100       120     250.7\n",
            "12        60  '2020/12/12'    100       120     250.7\n",
            "13        60  '2020/12/13'    106       128     345.3\n",
            "14        60  '2020/12/14'    104       132     379.3\n",
            "15        60  '2020/12/15'     98       123     275.0\n",
            "16        60  '2020/12/16'     98       120     215.2\n",
            "17        60  '2020/12/17'    100       120     300.0\n",
            "18        45  '2020/12/18'     90       112       NaN\n",
            "19        60  '2020/12/19'    103       123     323.0\n",
            "20        45  '2020/12/20'     97       125     243.0\n",
            "21        60  '2020/12/21'    108       131     364.2\n",
            "22        45           NaN    100       119     282.0\n",
            "23        60  '2020/12/23'    130       101     300.0\n",
            "24        45  '2020/12/24'    105       132     246.0\n",
            "25        60  '2020/12/25'    102       126     334.5\n",
            "26        60      20201226    100       120     250.0\n",
            "27        60  '2020/12/27'     92       118     241.0\n",
            "28        60  '2020/12/28'    103       132       NaN\n",
            "29        60  '2020/12/29'    100       132     280.0\n",
            "30        60  '2020/12/30'    102       129     380.3\n",
            "31        60  '2020/12/31'     92       115     243.0\n",
            "Cantidad de registros duplicados: 28\n",
            "\n",
            "Cantidad de registros por cada valor único:\n",
            " Duration\n",
            "60     24\n",
            "45      6\n",
            "450     1\n",
            "30      1\n",
            "Name: count, dtype: int64\n",
            "\n",
            "DataFrame sin duplicados en columna Duration:\n",
            "    Duration          Date  Pulse  Maxpulse  Calories\n",
            "0        60  '2020/12/01'    110       130     409.1\n",
            "3        45  '2020/12/04'    109       175     282.4\n",
            "7       450  '2020/12/08'    104       134     253.3\n",
            "8        30  '2020/12/09'    109       133     195.1\n"
          ]
        }
      ]
    },
    {
      "cell_type": "markdown",
      "source": [
        "## **Ejercicio 03. Duplicidad Parcial Dos columnas: Contar y Filtrar los registros duplicados en `Pulse` y `MaxPulse`**"
      ],
      "metadata": {
        "id": "MqtB5xI3lcAL"
      }
    },
    {
      "cell_type": "markdown",
      "source": [
        "1. Carga el conjunto de datos `dirtydata.csv` y verifica que su carga sea correcta.\n",
        "2. Cuenta la cantidad de registros duplicados utilizando la información de las columnas `Pulse` y `Maxpulse`\n",
        "3. Utiliza `value_counts()` e imprime la cantidad de registros que hay por cada valor único.\n",
        "4. Filtra los datos y obten los registros cuando `keep = 'last'`"
      ],
      "metadata": {
        "id": "6NyJRlOqlqEI"
      }
    },
    {
      "cell_type": "code",
      "source": [
        "# Leemos el archivo\n",
        "df_par_dup = pd.read_csv('/content/drive/MyDrive/ClassFiles/dirtydata.csv')\n",
        "\n",
        "# Imprimimos las primeras 5 filas para verificar la carga correcta\n",
        "print(df_par_dup.to_string())\n",
        "\n",
        "# Cantidad de duplicados usando la columnas Pulse y Maxpulse\n",
        "duplicados_pulse_maxpulse = df_par_dup.duplicated(subset = ['Pulse', 'Maxpulse']).sum()\n",
        "print('Cantidad de registros duplicados en (Pulse, MaxPulse):', duplicados_pulse_maxpulse)\n",
        "\n",
        "# Cantidad de registros por cada valor único en Pulse Maxpulse\n",
        "print('\\nCantidad de registros por cada valor único en (Pulse, MaxPulse):\\n', df_par_dup[['Pulse', 'Maxpulse']].value_counts())\n",
        "\n",
        "# Filtrado de duplicados cuando keep = 'last'\n",
        "df_sin_duplicados_last = df_par_dup.drop_duplicates(subset = ['Pulse', 'Maxpulse'], keep = 'last')\n",
        "print('\\nDataFrame sin duplicados en (Pulse, MaxPulse) cuando keep = last:\\n', df_sin_duplicados_last)"
      ],
      "metadata": {
        "colab": {
          "base_uri": "https://localhost:8080/"
        },
        "id": "P4-Cnulk0n4v",
        "outputId": "7b0be1b5-7cb2-4bae-e07e-aac9b99ff0bb"
      },
      "execution_count": 27,
      "outputs": [
        {
          "output_type": "stream",
          "name": "stdout",
          "text": [
            "    Duration          Date  Pulse  Maxpulse  Calories\n",
            "0         60  '2020/12/01'    110       130     409.1\n",
            "1         60  '2020/12/02'    117       145     479.0\n",
            "2         60  '2020/12/03'    103       135     340.0\n",
            "3         45  '2020/12/04'    109       175     282.4\n",
            "4         45  '2020/12/05'    117       148     406.0\n",
            "5         60  '2020/12/06'    102       127     300.0\n",
            "6         60  '2020/12/07'    110       136     374.0\n",
            "7        450  '2020/12/08'    104       134     253.3\n",
            "8         30  '2020/12/09'    109       133     195.1\n",
            "9         60  '2020/12/10'     98       124     269.0\n",
            "10        60  '2020/12/11'    103       147     329.3\n",
            "11        60  '2020/12/12'    100       120     250.7\n",
            "12        60  '2020/12/12'    100       120     250.7\n",
            "13        60  '2020/12/13'    106       128     345.3\n",
            "14        60  '2020/12/14'    104       132     379.3\n",
            "15        60  '2020/12/15'     98       123     275.0\n",
            "16        60  '2020/12/16'     98       120     215.2\n",
            "17        60  '2020/12/17'    100       120     300.0\n",
            "18        45  '2020/12/18'     90       112       NaN\n",
            "19        60  '2020/12/19'    103       123     323.0\n",
            "20        45  '2020/12/20'     97       125     243.0\n",
            "21        60  '2020/12/21'    108       131     364.2\n",
            "22        45           NaN    100       119     282.0\n",
            "23        60  '2020/12/23'    130       101     300.0\n",
            "24        45  '2020/12/24'    105       132     246.0\n",
            "25        60  '2020/12/25'    102       126     334.5\n",
            "26        60      20201226    100       120     250.0\n",
            "27        60  '2020/12/27'     92       118     241.0\n",
            "28        60  '2020/12/28'    103       132       NaN\n",
            "29        60  '2020/12/29'    100       132     280.0\n",
            "30        60  '2020/12/30'    102       129     380.3\n",
            "31        60  '2020/12/31'     92       115     243.0\n",
            "Cantidad de registros duplicados en (Pulse, MaxPulse): 3\n",
            "\n",
            "Cantidad de registros por cada valor único en (Pulse, MaxPulse):\n",
            " Pulse  Maxpulse\n",
            "100    120         4\n",
            "90     112         1\n",
            "103    135         1\n",
            "117    148         1\n",
            "       145         1\n",
            "110    136         1\n",
            "       130         1\n",
            "109    175         1\n",
            "       133         1\n",
            "108    131         1\n",
            "106    128         1\n",
            "105    132         1\n",
            "104    134         1\n",
            "       132         1\n",
            "103    147         1\n",
            "       132         1\n",
            "92     115         1\n",
            "103    123         1\n",
            "102    129         1\n",
            "       127         1\n",
            "       126         1\n",
            "100    132         1\n",
            "       119         1\n",
            "98     124         1\n",
            "       123         1\n",
            "       120         1\n",
            "97     125         1\n",
            "92     118         1\n",
            "130    101         1\n",
            "Name: count, dtype: int64\n",
            "\n",
            "DataFrame sin duplicados en (Pulse, MaxPulse) cuando keep = last:\n",
            "     Duration          Date  Pulse  Maxpulse  Calories\n",
            "0         60  '2020/12/01'    110       130     409.1\n",
            "1         60  '2020/12/02'    117       145     479.0\n",
            "2         60  '2020/12/03'    103       135     340.0\n",
            "3         45  '2020/12/04'    109       175     282.4\n",
            "4         45  '2020/12/05'    117       148     406.0\n",
            "5         60  '2020/12/06'    102       127     300.0\n",
            "6         60  '2020/12/07'    110       136     374.0\n",
            "7        450  '2020/12/08'    104       134     253.3\n",
            "8         30  '2020/12/09'    109       133     195.1\n",
            "9         60  '2020/12/10'     98       124     269.0\n",
            "10        60  '2020/12/11'    103       147     329.3\n",
            "13        60  '2020/12/13'    106       128     345.3\n",
            "14        60  '2020/12/14'    104       132     379.3\n",
            "15        60  '2020/12/15'     98       123     275.0\n",
            "16        60  '2020/12/16'     98       120     215.2\n",
            "18        45  '2020/12/18'     90       112       NaN\n",
            "19        60  '2020/12/19'    103       123     323.0\n",
            "20        45  '2020/12/20'     97       125     243.0\n",
            "21        60  '2020/12/21'    108       131     364.2\n",
            "22        45           NaN    100       119     282.0\n",
            "23        60  '2020/12/23'    130       101     300.0\n",
            "24        45  '2020/12/24'    105       132     246.0\n",
            "25        60  '2020/12/25'    102       126     334.5\n",
            "26        60      20201226    100       120     250.0\n",
            "27        60  '2020/12/27'     92       118     241.0\n",
            "28        60  '2020/12/28'    103       132       NaN\n",
            "29        60  '2020/12/29'    100       132     280.0\n",
            "30        60  '2020/12/30'    102       129     380.3\n",
            "31        60  '2020/12/31'     92       115     243.0\n"
          ]
        }
      ]
    },
    {
      "cell_type": "markdown",
      "source": [
        "## **Ejercicio 04. Duplicidad Total o Exacta: Contar y Filtrar los registros duplicados**"
      ],
      "metadata": {
        "id": "sUfdff3m-3h6"
      }
    },
    {
      "cell_type": "markdown",
      "source": [
        "1. Carga el conjunto de datos `dirtydata.csv` y verifica que su carga sea correcta.\n",
        "2. Cuenta la cantidad de registros duplicados exactos (todas las columnas).\n",
        "3. Utiliza `sum()` e imprime la cantidad de registros con duplicidad exacta.\n",
        "4. Filtra los datos y obten los registros cuando `keep = 'last'`."
      ],
      "metadata": {
        "id": "E9UW9GXW-_J3"
      }
    },
    {
      "cell_type": "code",
      "source": [
        "# Leemos el archivo\n",
        "df_exac_dup = pd.read_csv('/content/drive/MyDrive/ClassFiles/dirtydata.csv')\n",
        "\n",
        "# Imprimimos las primeras 5 filas para verificar la carga correcta\n",
        "print(df_exac_dup.to_string())\n",
        "\n",
        "# Cantidad de registros duplicados exactos\n",
        "duplicados_exactos = df_exac_dup.duplicated().sum()\n",
        "print('\\nCantidad de registros duplicados exactos:', duplicados_exactos)\n",
        "\n",
        "df_sin_duplicados_exacto = df_exac_dup.drop_duplicates(keep = 'last')\n",
        "print('\\nDataFrame sin duplicados exactos:\\n', df_sin_duplicados_exacto)"
      ],
      "metadata": {
        "colab": {
          "base_uri": "https://localhost:8080/"
        },
        "id": "-YOnMftl_N2l",
        "outputId": "c9cf16d3-fbe5-4409-9cf8-6a91e463ea56"
      },
      "execution_count": 28,
      "outputs": [
        {
          "output_type": "stream",
          "name": "stdout",
          "text": [
            "    Duration          Date  Pulse  Maxpulse  Calories\n",
            "0         60  '2020/12/01'    110       130     409.1\n",
            "1         60  '2020/12/02'    117       145     479.0\n",
            "2         60  '2020/12/03'    103       135     340.0\n",
            "3         45  '2020/12/04'    109       175     282.4\n",
            "4         45  '2020/12/05'    117       148     406.0\n",
            "5         60  '2020/12/06'    102       127     300.0\n",
            "6         60  '2020/12/07'    110       136     374.0\n",
            "7        450  '2020/12/08'    104       134     253.3\n",
            "8         30  '2020/12/09'    109       133     195.1\n",
            "9         60  '2020/12/10'     98       124     269.0\n",
            "10        60  '2020/12/11'    103       147     329.3\n",
            "11        60  '2020/12/12'    100       120     250.7\n",
            "12        60  '2020/12/12'    100       120     250.7\n",
            "13        60  '2020/12/13'    106       128     345.3\n",
            "14        60  '2020/12/14'    104       132     379.3\n",
            "15        60  '2020/12/15'     98       123     275.0\n",
            "16        60  '2020/12/16'     98       120     215.2\n",
            "17        60  '2020/12/17'    100       120     300.0\n",
            "18        45  '2020/12/18'     90       112       NaN\n",
            "19        60  '2020/12/19'    103       123     323.0\n",
            "20        45  '2020/12/20'     97       125     243.0\n",
            "21        60  '2020/12/21'    108       131     364.2\n",
            "22        45           NaN    100       119     282.0\n",
            "23        60  '2020/12/23'    130       101     300.0\n",
            "24        45  '2020/12/24'    105       132     246.0\n",
            "25        60  '2020/12/25'    102       126     334.5\n",
            "26        60      20201226    100       120     250.0\n",
            "27        60  '2020/12/27'     92       118     241.0\n",
            "28        60  '2020/12/28'    103       132       NaN\n",
            "29        60  '2020/12/29'    100       132     280.0\n",
            "30        60  '2020/12/30'    102       129     380.3\n",
            "31        60  '2020/12/31'     92       115     243.0\n",
            "\n",
            "Cantidad de registros duplicados exactos: 1\n",
            "\n",
            "DataFrame sin duplicados exactos:\n",
            "     Duration          Date  Pulse  Maxpulse  Calories\n",
            "0         60  '2020/12/01'    110       130     409.1\n",
            "1         60  '2020/12/02'    117       145     479.0\n",
            "2         60  '2020/12/03'    103       135     340.0\n",
            "3         45  '2020/12/04'    109       175     282.4\n",
            "4         45  '2020/12/05'    117       148     406.0\n",
            "5         60  '2020/12/06'    102       127     300.0\n",
            "6         60  '2020/12/07'    110       136     374.0\n",
            "7        450  '2020/12/08'    104       134     253.3\n",
            "8         30  '2020/12/09'    109       133     195.1\n",
            "9         60  '2020/12/10'     98       124     269.0\n",
            "10        60  '2020/12/11'    103       147     329.3\n",
            "12        60  '2020/12/12'    100       120     250.7\n",
            "13        60  '2020/12/13'    106       128     345.3\n",
            "14        60  '2020/12/14'    104       132     379.3\n",
            "15        60  '2020/12/15'     98       123     275.0\n",
            "16        60  '2020/12/16'     98       120     215.2\n",
            "17        60  '2020/12/17'    100       120     300.0\n",
            "18        45  '2020/12/18'     90       112       NaN\n",
            "19        60  '2020/12/19'    103       123     323.0\n",
            "20        45  '2020/12/20'     97       125     243.0\n",
            "21        60  '2020/12/21'    108       131     364.2\n",
            "22        45           NaN    100       119     282.0\n",
            "23        60  '2020/12/23'    130       101     300.0\n",
            "24        45  '2020/12/24'    105       132     246.0\n",
            "25        60  '2020/12/25'    102       126     334.5\n",
            "26        60      20201226    100       120     250.0\n",
            "27        60  '2020/12/27'     92       118     241.0\n",
            "28        60  '2020/12/28'    103       132       NaN\n",
            "29        60  '2020/12/29'    100       132     280.0\n",
            "30        60  '2020/12/30'    102       129     380.3\n",
            "31        60  '2020/12/31'     92       115     243.0\n"
          ]
        }
      ]
    },
    {
      "cell_type": "markdown",
      "source": [
        "## **Ejercicio 05. Cálculo de la media con duplicados y sin duplicados**"
      ],
      "metadata": {
        "id": "t38KXQfEBs63"
      }
    },
    {
      "cell_type": "markdown",
      "source": [
        "1. Carga el conjunto de datos `dirtydata.csv` y verifica que su carga sea correcta.\n",
        "2. Calcula e imprime la media de las columnas `Pulse` y `MaxPulse`.\n",
        "3. Identifica los valores duplicados en las columnas `Pulse` y `MaxPulse` (Duplicidad Parcial) y elimina los registro repetidos. Quédate con las últimas ocurrencias.\n",
        "4. Utiliza el conjunto anterior sin datos duplicados (recuerda que solo quedaron las últimas ocurrencias de los datos) y calcula la media de las columnas `Pulse` y `MaxPulse`."
      ],
      "metadata": {
        "id": "qDXPmLziB_eM"
      }
    },
    {
      "cell_type": "code",
      "source": [
        "# Leemos el archivo\n",
        "df_mean_dup = pd.read_csv('/content/drive/MyDrive/ClassFiles/dirtydata.csv')\n",
        "\n",
        "# Imprimimos las primeras 5 filas para verificar la carga correcta\n",
        "print(df_mean_dup.to_string())\n",
        "\n",
        "# Cálculo de la media\n",
        "media_pulse = df_mean_dup['Pulse'].mean()\n",
        "media_maxpulse = df_mean_dup['Maxpulse'].mean()\n",
        "print('\\nMedia de Pulse:', media_pulse)\n",
        "print('Media de MaxPulse:', media_maxpulse)\n",
        "\n",
        "# Identificacion de valores duplicados\n",
        "duplicados_pulse_maxpulse = df_mean_dup.duplicated(subset = ['Pulse', 'Maxpulse']).sum()\n",
        "print('\\nCantidad de registros duplicados en (Pulse, MaxPulse):', duplicados_pulse_maxpulse)\n",
        "\n",
        "# Eliminación de registros repetidos\n",
        "df_sin_duplicados_mean = df_mean_dup.drop_duplicates(subset = ['Pulse', 'Maxpulse'], keep = 'last')\n",
        "\n",
        "# Cálculo de la media sin duplicados\n",
        "media_pulse_sin_duplicados = df_sin_duplicados_mean['Pulse'].mean()\n",
        "media_maxpulse_sin_duplicados = df_sin_duplicados_mean['Maxpulse'].mean()\n",
        "print('\\nMedia de Pulse sin duplicados:', media_pulse_sin_duplicados)\n",
        "print('Media de MaxPulse sin duplicados:', media_maxpulse_sin_duplicados)"
      ],
      "metadata": {
        "colab": {
          "base_uri": "https://localhost:8080/"
        },
        "id": "sAdZdaleCVxH",
        "outputId": "8a328ec5-2cfc-44f2-a9c7-eb4afeed8954"
      },
      "execution_count": 34,
      "outputs": [
        {
          "output_type": "stream",
          "name": "stdout",
          "text": [
            "    Duration          Date  Pulse  Maxpulse  Calories\n",
            "0         60  '2020/12/01'    110       130     409.1\n",
            "1         60  '2020/12/02'    117       145     479.0\n",
            "2         60  '2020/12/03'    103       135     340.0\n",
            "3         45  '2020/12/04'    109       175     282.4\n",
            "4         45  '2020/12/05'    117       148     406.0\n",
            "5         60  '2020/12/06'    102       127     300.0\n",
            "6         60  '2020/12/07'    110       136     374.0\n",
            "7        450  '2020/12/08'    104       134     253.3\n",
            "8         30  '2020/12/09'    109       133     195.1\n",
            "9         60  '2020/12/10'     98       124     269.0\n",
            "10        60  '2020/12/11'    103       147     329.3\n",
            "11        60  '2020/12/12'    100       120     250.7\n",
            "12        60  '2020/12/12'    100       120     250.7\n",
            "13        60  '2020/12/13'    106       128     345.3\n",
            "14        60  '2020/12/14'    104       132     379.3\n",
            "15        60  '2020/12/15'     98       123     275.0\n",
            "16        60  '2020/12/16'     98       120     215.2\n",
            "17        60  '2020/12/17'    100       120     300.0\n",
            "18        45  '2020/12/18'     90       112       NaN\n",
            "19        60  '2020/12/19'    103       123     323.0\n",
            "20        45  '2020/12/20'     97       125     243.0\n",
            "21        60  '2020/12/21'    108       131     364.2\n",
            "22        45           NaN    100       119     282.0\n",
            "23        60  '2020/12/23'    130       101     300.0\n",
            "24        45  '2020/12/24'    105       132     246.0\n",
            "25        60  '2020/12/25'    102       126     334.5\n",
            "26        60      20201226    100       120     250.0\n",
            "27        60  '2020/12/27'     92       118     241.0\n",
            "28        60  '2020/12/28'    103       132       NaN\n",
            "29        60  '2020/12/29'    100       132     280.0\n",
            "30        60  '2020/12/30'    102       129     380.3\n",
            "31        60  '2020/12/31'     92       115     243.0\n",
            "\n",
            "Media de Pulse: 103.5\n",
            "Media de MaxPulse: 128.5\n",
            "\n",
            "Cantidad de registros duplicados en (Pulse, MaxPulse): 3\n",
            "\n",
            "Media de Pulse sin duplicados: 103.86206896551724\n",
            "Media de MaxPulse sin duplicados: 129.3793103448276\n"
          ]
        }
      ]
    }
  ]
}