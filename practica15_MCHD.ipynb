{
  "nbformat": 4,
  "nbformat_minor": 0,
  "metadata": {
    "colab": {
      "provenance": [],
      "authorship_tag": "ABX9TyMHkqlzmMmbmVtyMvo9nnB+",
      "include_colab_link": true
    },
    "kernelspec": {
      "name": "python3",
      "display_name": "Python 3"
    },
    "language_info": {
      "name": "python"
    }
  },
  "cells": [
    {
      "cell_type": "markdown",
      "metadata": {
        "id": "view-in-github",
        "colab_type": "text"
      },
      "source": [
        "<a href=\"https://colab.research.google.com/github/MaggieHDez/ClassFiles/blob/main/practica15_MCHD.ipynb\" target=\"_parent\"><img src=\"https://colab.research.google.com/assets/colab-badge.svg\" alt=\"Open In Colab\"/></a>"
      ]
    },
    {
      "cell_type": "markdown",
      "source": [
        "# **Práctica 15. Datos Temporales**\n",
        ">**Alumno:** Margarita Cristina Hernández Delgadillo\\\n",
        ">**Matrícula:** 255879"
      ],
      "metadata": {
        "id": "SdxNT5skak9A"
      }
    },
    {
      "cell_type": "markdown",
      "source": [
        "## **Objetivo**"
      ],
      "metadata": {
        "id": "LgiRxzEZa9qK"
      }
    },
    {
      "cell_type": "markdown",
      "source": [
        "El objetivo de esta actividad es que los estudiantes practiquen los temas vistos de limpieza y transformación de datos categóricos.\n",
        "###Instrucciones:\n",
        "1. Descarga el archivo `airdata.csv`, proporcionado en esta tarea. También lo puedes encontrar en recursos.\n",
        "2. Crea un notebook en colab y guarda el archivo csv en tu drive.\n",
        "3. Agrega secciones en el colab poniendo como título el nombre de cada ejercicio."
      ],
      "metadata": {
        "id": "Qq43GkJwbJuv"
      }
    },
    {
      "cell_type": "code",
      "source": [
        "from google.colab import drive\n",
        "drive.mount('/content/drive')"
      ],
      "metadata": {
        "colab": {
          "base_uri": "https://localhost:8080/"
        },
        "id": "1Ie4SljtflMZ",
        "outputId": "ef69ce9a-d32e-4276-967a-a7f5102edd0d"
      },
      "execution_count": 1,
      "outputs": [
        {
          "output_type": "stream",
          "name": "stdout",
          "text": [
            "Mounted at /content/drive\n"
          ]
        }
      ]
    },
    {
      "cell_type": "markdown",
      "source": [
        "## **Ejercicio 01: Tipo de Datos Correcto**"
      ],
      "metadata": {
        "id": "44MjEMj9fwCA"
      }
    },
    {
      "cell_type": "markdown",
      "source": [
        "###Instrucciones:\n",
        "1. Carga el conjunto de datos airdata.csv y verifica que cada columna tenga el tipo de datos correcto.\n",
        "2. Si una columna de tipo temporal no está en el tipo de datos correcto realiza la conversión.\n",
        "3. Usa dtypes para mostrar que cada columna, principalmente la que contiene datos temporales, está en el tipo de datos correcto.\n",
        "4. Imprime las primeras tres líneas"
      ],
      "metadata": {
        "id": "s7BlY9thf3Jt"
      }
    },
    {
      "cell_type": "code",
      "execution_count": 42,
      "metadata": {
        "colab": {
          "base_uri": "https://localhost:8080/"
        },
        "id": "ck1GFfY9ah51",
        "outputId": "f337cde8-1805-40dd-b8f4-112e8c5b2545"
      },
      "outputs": [
        {
          "output_type": "stream",
          "name": "stdout",
          "text": [
            "DateTime           object\n",
            "Temperature       float64\n",
            "Humidity            int64\n",
            "Wind_Speed        float64\n",
            "Wind_Direction    float64\n",
            "NO2_Location_A    float64\n",
            "NO2_Location_B    float64\n",
            "NO2_Location_C    float64\n",
            "dtype: object\n",
            "\n",
            "*************************************************************\n",
            "\n",
            "Tipo de datos después de conversión\n",
            " DateTime          datetime64[ns]\n",
            "Temperature              float64\n",
            "Humidity                   int64\n",
            "Wind_Speed               float64\n",
            "Wind_Direction           float64\n",
            "NO2_Location_A           float64\n",
            "NO2_Location_B           float64\n",
            "NO2_Location_C           float64\n",
            "dtype: object\n",
            "\n",
            "Primeras 3 líneas de DataFrame\n",
            "            DateTime  Temperature  Humidity  Wind_Speed  Wind_Direction  NO2_Location_A  NO2_Location_B  NO2_Location_C\n",
            "2020-01-01 00:00:00     2.180529        87    1.484318        75.96376           39.23           52.88           62.37\n",
            "2020-01-01 01:00:00     1.490529        89    2.741678       113.19859           38.30           44.95           52.53\n",
            "2020-01-01 02:00:00     1.690529        85    3.563818       135.00000             NaN           48.40           54.80\n"
          ]
        }
      ],
      "source": [
        "# Importar la librería pandas\n",
        "import pandas as pd\n",
        "\n",
        "# Leemos el archivo\n",
        "df = pd.read_csv('/content/drive/MyDrive/ClassFiles/Airdata.csv')\n",
        "\n",
        "# Imprimimos el tipo de datos\n",
        "print(df.dtypes)\n",
        "\n",
        "# La columna DateTime es tipo object, convertimos a el tipo correcto\n",
        "df['DateTime'] = pd.to_datetime(df['DateTime'])\n",
        "\n",
        "print('\\n*************************************************************\\n')\n",
        "\n",
        "# Imprimimos el tipo de datos\n",
        "print('Tipo de datos después de conversión\\n', df.dtypes)\n",
        "\n",
        "# Imprimimos las primeras 3 líneas\n",
        "print('\\nPrimeras 3 líneas de DataFrame\\n', df.head(3).to_string(index=False))"
      ]
    },
    {
      "cell_type": "markdown",
      "source": [
        "## **Ejercicio 02: Extraer componentes de fecha y tiempo**"
      ],
      "metadata": {
        "id": "qE0SNEsT_AQx"
      }
    },
    {
      "cell_type": "markdown",
      "source": [
        "###Instrucciones:\n",
        "1. De la columna 'DateTime' extrae el año, mes, día y hora. Crea una nueva columna para cada componente que extraes.\n",
        "2. Imprime las primeras tres líneas del dataframe que ahora deberá tener 4 nuevas columnas."
      ],
      "metadata": {
        "id": "iupqDzSTUY_e"
      }
    },
    {
      "cell_type": "code",
      "source": [
        "# Extraccion de año, mes, día y hora y creación de nuevas columnas\n",
        "df['Year'] = df['DateTime'].dt.year\n",
        "df['Month'] = df['DateTime'].dt.month\n",
        "df['Day'] = df['DateTime'].dt.day\n",
        "df['Hour'] = df['DateTime'].dt.hour\n",
        "\n",
        "# Imprimimos las primeras 3 líneas\n",
        "print(df.head(3).to_string(index=False))"
      ],
      "metadata": {
        "colab": {
          "base_uri": "https://localhost:8080/"
        },
        "id": "kX7KIvPlSmte",
        "outputId": "91afbbdf-f66c-4826-af7c-160a788049aa"
      },
      "execution_count": 43,
      "outputs": [
        {
          "output_type": "stream",
          "name": "stdout",
          "text": [
            "           DateTime  Temperature  Humidity  Wind_Speed  Wind_Direction  NO2_Location_A  NO2_Location_B  NO2_Location_C  Year  Month  Day  Hour\n",
            "2020-01-01 00:00:00     2.180529        87    1.484318        75.96376           39.23           52.88           62.37  2020      1    1     0\n",
            "2020-01-01 01:00:00     1.490529        89    2.741678       113.19859           38.30           44.95           52.53  2020      1    1     1\n",
            "2020-01-01 02:00:00     1.690529        85    3.563818       135.00000             NaN           48.40           54.80  2020      1    1     2\n"
          ]
        }
      ]
    },
    {
      "cell_type": "markdown",
      "source": [
        "## **Ejercicio 03: Aritmética - Suma de Intervalos (timedelta)**"
      ],
      "metadata": {
        "id": "NUZsHo-fTY4S"
      }
    },
    {
      "cell_type": "markdown",
      "source": [
        "###Instrucciones:\n",
        "1. Suma 10 días, 7 horas y 15 minutos a cada elemento de la columna `'DateTime'`. Guarda el resultado en una nueva columna y agrega al dataframe.\n",
        "2. Imprime la columna `'DateTime'` y la columna que resulta de sumar 10 días, 7 horas y 15 minutos."
      ],
      "metadata": {
        "id": "eFzKwG2fTrth"
      }
    },
    {
      "cell_type": "code",
      "source": [
        "# Importamos la librería datetime\n",
        "import datetime as dt\n",
        "\n",
        "df['SumDate'] = df['DateTime'] + dt.timedelta(days=10, hours=7, minutes=15)\n",
        "\n",
        "# Imprimimos las columnas\n",
        "print(df[['DateTime', 'SumDate']])"
      ],
      "metadata": {
        "colab": {
          "base_uri": "https://localhost:8080/"
        },
        "id": "aecuxJp3UuWp",
        "outputId": "c27214b6-f19e-4057-f950-fec79ad2ac03"
      },
      "execution_count": 44,
      "outputs": [
        {
          "output_type": "stream",
          "name": "stdout",
          "text": [
            "                DateTime             SumDate\n",
            "0    2020-01-01 00:00:00 2020-01-11 07:15:00\n",
            "1    2020-01-01 01:00:00 2020-01-11 08:15:00\n",
            "2    2020-01-01 02:00:00 2020-01-11 09:15:00\n",
            "3    2020-01-01 03:00:00 2020-01-11 10:15:00\n",
            "4    2020-01-01 04:00:00 2020-01-11 11:15:00\n",
            "...                  ...                 ...\n",
            "8779 2020-12-31 19:00:00 2021-01-11 02:15:00\n",
            "8780 2020-12-31 20:00:00 2021-01-11 03:15:00\n",
            "8781 2020-12-31 21:00:00 2021-01-11 04:15:00\n",
            "8782 2020-12-31 22:00:00 2021-01-11 05:15:00\n",
            "8783 2020-12-31 23:00:00 2021-01-11 06:15:00\n",
            "\n",
            "[8784 rows x 2 columns]\n"
          ]
        }
      ]
    },
    {
      "cell_type": "markdown",
      "source": [
        "## **Ejercicio 04: Timestamp**"
      ],
      "metadata": {
        "id": "9N-_xl8JhRDh"
      }
    },
    {
      "cell_type": "markdown",
      "source": [
        "### Instrucciones:\n",
        "1. Convierte la columna `'DateTime'` la cual tiene un formato de fecha legible a timestamp Unix. Guarda el resultado en una nueva columna.\n",
        "2. Imprime las primeras tres filas de  la columna `'DateTime'` y la columna que representa dicha fecha en timestamp Unix."
      ],
      "metadata": {
        "id": "teFIkrIDhXYr"
      }
    },
    {
      "cell_type": "code",
      "source": [
        "# 'DateTime' ya es datetime; convertimos a enteros (nanosegundos) y lo dividimos\n",
        "# para obtener el timestamp Unix en segundos\n",
        "df['TimeStamp'] = df['DateTime'].astype(int) // 10**9\n",
        "\n",
        "# Imprimimos las primeras 3 líneas\n",
        "print(df[['DateTime', 'TimeStamp']].head(3).to_string(index=False))"
      ],
      "metadata": {
        "colab": {
          "base_uri": "https://localhost:8080/"
        },
        "id": "eZyf0MrChrXF",
        "outputId": "05520c71-7586-4bd0-b4c3-47b0aa79c147"
      },
      "execution_count": 45,
      "outputs": [
        {
          "output_type": "stream",
          "name": "stdout",
          "text": [
            "           DateTime  TimeStamp\n",
            "2020-01-01 00:00:00 1577836800\n",
            "2020-01-01 01:00:00 1577840400\n",
            "2020-01-01 02:00:00 1577844000\n"
          ]
        }
      ]
    },
    {
      "cell_type": "markdown",
      "source": [
        "## **Ejercicio 05: Filtrado de Fechas**"
      ],
      "metadata": {
        "id": "e_ylhavppFPV"
      }
    },
    {
      "cell_type": "markdown",
      "source": [
        "### Instrucciones:\n",
        "1. Utiliza la columna 'DateTime' y Filtra aquellas fechas que son mayores a 2020-11-01.\n",
        "2. Imprime el resultado."
      ],
      "metadata": {
        "id": "jDOGD-N5pK-S"
      }
    },
    {
      "cell_type": "code",
      "source": [
        "# Filtramos con la columna DateTime aquellas fechas mayores a 2020-11-01\n",
        "\n",
        "df_filtrado = df[df['DateTime'] > '2020-11-01']\n",
        "\n",
        "# Imprimimos el resultado\n",
        "print(df_filtrado)"
      ],
      "metadata": {
        "colab": {
          "base_uri": "https://localhost:8080/"
        },
        "id": "_LPex9m6pl3h",
        "outputId": "c756a91d-480c-4612-fe2a-fb1a5aa8cb03"
      },
      "execution_count": 46,
      "outputs": [
        {
          "output_type": "stream",
          "name": "stdout",
          "text": [
            "                DateTime  Temperature  Humidity  Wind_Speed  Wind_Direction  \\\n",
            "7321 2020-11-01 01:00:00    13.620529        58    6.638072       130.60129   \n",
            "7322 2020-11-01 02:00:00    13.980529        40    6.618519       157.61987   \n",
            "7323 2020-11-01 03:00:00    13.010529        43    8.209263       164.74487   \n",
            "7324 2020-11-01 04:00:00    12.190529        51    7.568566       154.65382   \n",
            "7325 2020-11-01 05:00:00    12.510529        59    7.594208       148.57043   \n",
            "...                  ...          ...       ...         ...             ...   \n",
            "8779 2020-12-31 19:00:00     4.920528        72    4.553680       251.56506   \n",
            "8780 2020-12-31 20:00:00     4.990529        74    3.259939       186.34020   \n",
            "8781 2020-12-31 21:00:00     4.360529        84   10.587917       252.18112   \n",
            "8782 2020-12-31 22:00:00     3.820528        88    8.435069       219.80557   \n",
            "8783 2020-12-31 23:00:00     3.170529        89    6.792466       212.00539   \n",
            "\n",
            "      NO2_Location_A  NO2_Location_B  NO2_Location_C  Year  Month  Day  Hour  \\\n",
            "7321           17.50           23.88           44.07  2020     11    1     1   \n",
            "7322           13.38           18.92           35.80  2020     11    1     2   \n",
            "7323           11.95           13.95           30.15  2020     11    1     3   \n",
            "7324           10.10           14.35           31.45  2020     11    1     4   \n",
            "7325           10.30           14.42           32.55  2020     11    1     5   \n",
            "...              ...             ...             ...   ...    ...  ...   ...   \n",
            "8779           53.44           32.65           66.82  2020     12   31    19   \n",
            "8780           49.80           34.03           67.31  2020     12   31    20   \n",
            "8781           43.32           25.55           59.33  2020     12   31    21   \n",
            "8782           39.88           19.90           43.70  2020     12   31    22   \n",
            "8783           39.04           30.33           46.87  2020     12   31    23   \n",
            "\n",
            "                 SumDate   TimeStamp  \n",
            "7321 2020-11-11 08:15:00  1604192400  \n",
            "7322 2020-11-11 09:15:00  1604196000  \n",
            "7323 2020-11-11 10:15:00  1604199600  \n",
            "7324 2020-11-11 11:15:00  1604203200  \n",
            "7325 2020-11-11 12:15:00  1604206800  \n",
            "...                  ...         ...  \n",
            "8779 2021-01-11 02:15:00  1609441200  \n",
            "8780 2021-01-11 03:15:00  1609444800  \n",
            "8781 2021-01-11 04:15:00  1609448400  \n",
            "8782 2021-01-11 05:15:00  1609452000  \n",
            "8783 2021-01-11 06:15:00  1609455600  \n",
            "\n",
            "[1463 rows x 14 columns]\n"
          ]
        }
      ]
    }
  ]
}